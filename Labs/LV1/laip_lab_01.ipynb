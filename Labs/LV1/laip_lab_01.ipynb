{
 "cells": [
  {
   "cell_type": "markdown",
   "metadata": {},
   "source": [
    "# Лабораториска вежба бр. 1"
   ]
  },
  {
   "cell_type": "markdown",
   "metadata": {},
   "source": [
    "## Вовед"
   ]
  },
  {
   "cell_type": "markdown",
   "metadata": {},
   "source": [
    "Множење на вектори и матрици"
   ]
  },
  {
   "cell_type": "code",
   "execution_count": 1,
   "metadata": {},
   "outputs": [
    {
     "name": "stdout",
     "output_type": "stream",
     "text": [
      "[28  4]\n",
      "[28  4]\n",
      "\n",
      "[[ 32  -2  26 -34  34]\n",
      " [  6   5   5  -5   3]]\n",
      "\n",
      "[[ 32   6]\n",
      " [ -2   5]\n",
      " [ 26   5]\n",
      " [-34  -5]\n",
      " [ 34   3]]\n"
     ]
    }
   ],
   "source": [
    "import numpy as np\n",
    "\n",
    "x = np.array([1, 2, 3])\n",
    "A = np.array([[2, 4, 6], [1, 0, 1]])\n",
    "B = np.array([[1, 4, 3, 2, 0], [0, -4, 2, 1, 4], [5, 1, 2, -7, 3]])\n",
    "\n",
    "print(A @ x)                        # Множење на матрица со вектор\n",
    "print(np.matmul(A, x), end='\\n\\n')  # Еквивалентно со претходното\n",
    "\n",
    "print(A @ B, end='\\n\\n')            # Множење на матрици\n",
    "\n",
    "# print (B @ A, end='\\n\\n')         # Грешка - треба да се внимава на димензиите на матриците при нивно множење\n",
    "\n",
    "print(B.T @ A.T)                    # Транспонирање на `numpy` матрици и нивно множење"
   ]
  },
  {
   "cell_type": "markdown",
   "metadata": {},
   "source": [
    "Решавање системи линеарни равенки"
   ]
  },
  {
   "cell_type": "code",
   "execution_count": 2,
   "metadata": {},
   "outputs": [
    {
     "name": "stdout",
     "output_type": "stream",
     "text": [
      "[1. 1. 1.]\n",
      "True\n"
     ]
    }
   ],
   "source": [
    "import numpy.linalg             # Ќе го користиме модулот `linalg` од `numpy`\n",
    "\n",
    "A = np.array([[1, 0, 0], [0, 1, 1], [0, 0, 1]])\n",
    "b = np.array([1, 2, 1])\n",
    "\n",
    "print(np.linalg.solve(A, b))    # Функцијата `solve` дава решение на матричната равенка `Ax = b`\n",
    "                                # Мора да бидат задоволени следните услови:\n",
    "                                # 1) A е квадратна матрица\n",
    "                                # 2) Матрицата е несингуларна - има единствено решение за равенката `Ax = b`\n",
    "                                # т.е. сите редици/колони се линеарно независни.\n",
    "\n",
    "x = np.linalg.solve(A, b)\n",
    "a = [1, 1, 1]\n",
    "print(np.allclose(x, a))        # Проверка дали `x` и `a` се приближно еднакви (до одредено ниво на толеранција)"
   ]
  },
  {
   "cell_type": "markdown",
   "metadata": {},
   "source": [
    "## Основен дел"
   ]
  },
  {
   "cell_type": "markdown",
   "metadata": {},
   "source": [
    "Да се реши системот равенки:\n",
    "$$\\begin{align*} \n",
    "&x_1 &&+4x_2 &&+ 3x_3 &&+ 4x_4 &&=& 3 \\\\ \n",
    "&    &&+2x_2 &&+x_3 &&+ 4x_4 &&=& 12 \\\\ \n",
    "&x_1 &&+x_2 &&-5x_3 &&-2 x_4 &&=& 7 \\\\ \n",
    "&    &&  &&-2x_3 &&+ 3x_4 &&= &1  \\end{align*}$$"
   ]
  },
  {
   "cell_type": "code",
   "execution_count": null,
   "metadata": {},
   "outputs": [],
   "source": []
  },
  {
   "cell_type": "markdown",
   "metadata": {},
   "source": [
    "Да се провери дали $(-1, -2, 1, 0)$, $(2, 4, -2, 1)$ и $(7, 14, -7, 0)$ се решенија на системот равенки: \n",
    "$$\\begin{align*} \n",
    "&x && +y &&+ 3z &&+t &&=& 0 \\\\ \n",
    "& x   &&-y &&-z &&-t &&=& 0 \\\\ \n",
    "&3x &&+y &&+5z &&+3t &&=& 0 \\\\ \n",
    "&  x  && +5y &&+11z &&+8t &&= &0  \\end{align*}$$"
   ]
  },
  {
   "cell_type": "code",
   "execution_count": null,
   "metadata": {},
   "outputs": [],
   "source": []
  },
  {
   "cell_type": "markdown",
   "metadata": {},
   "source": [
    "Определи ги коефициентите на полиномот $f(x) = x^2 + ax + b$, ако е дадено дека $f(1) = 5$ и $f(10) = 12$"
   ]
  },
  {
   "cell_type": "code",
   "execution_count": null,
   "metadata": {},
   "outputs": [],
   "source": []
  },
  {
   "cell_type": "markdown",
   "metadata": {},
   "source": [
    "Да се најде решение на векторскaтa равенкa\n",
    "$x_1 \\begin{pmatrix}6 \\\\ 1 \\\\ 3\\end{pmatrix} + x_2 \\begin{pmatrix}4\\\\ 5 \\\\ 2\\end{pmatrix} = \\begin{pmatrix}0 \\\\ -1 \\\\ 0\\end{pmatrix}$"
   ]
  },
  {
   "cell_type": "code",
   "execution_count": null,
   "metadata": {},
   "outputs": [],
   "source": []
  },
  {
   "cell_type": "markdown",
   "metadata": {},
   "source": [
    "Провери дали векторот $x = \\begin{pmatrix}1\\\\ 0\\\\ -3\\end{pmatrix}$ се наоѓа во спанот на векторите $u = \\begin{pmatrix}4\\\\ 12\\\\ -7\\end{pmatrix}$, $v = \\begin{pmatrix}-5\\\\ 2\\\\ 0\\end{pmatrix}$ и $w = \\begin{pmatrix}-1\\\\ 100\\\\ 0\\end{pmatrix}$."
   ]
  },
  {
   "cell_type": "code",
   "execution_count": null,
   "metadata": {},
   "outputs": [],
   "source": []
  },
  {
   "cell_type": "markdown",
   "metadata": {},
   "source": [
    "За матрица $А=\\begin{pmatrix}2&2&1&0&7\\\\4&0&0&0&1\\\\3&0&1&-2&2\\\\4&-5&-4&3&3\\end{pmatrix}$, да се искористат најмногу колони од $A$ за да се конструира матрица $B$ таква што равенката $Bx = 0$ ќе го има само тривијалното решение."
   ]
  },
  {
   "cell_type": "code",
   "execution_count": null,
   "metadata": {},
   "outputs": [],
   "source": []
  },
  {
   "cell_type": "markdown",
   "metadata": {},
   "source": [
    "## Практичен дел"
   ]
  },
  {
   "cell_type": "markdown",
   "metadata": {},
   "source": [
    "Во експеримент за јакост на материјали, беше измеренa затезната напнатост на метална прачка при различни нивоа на напрегање:\n",
    "\n",
    "$$\\begin{align*} \n",
    "\\text{Напрегање (0.1 \\%):} &&0 &&2 &&4 &&6 &&8 &&10 \\\\ \n",
    "\\text{Напнатост (MPa):} &&0 &&12.5 &&65.2 &&145.9 &&237.6 &&355.0\n",
    "\\end{align*}$$\n",
    "\n",
    "Најдете интерполирачки полином за овие податоци и проценете ја напнатоста на прачката кога напрегањето на материјалот ќе достигне $7.5\\%.$"
   ]
  },
  {
   "cell_type": "code",
   "execution_count": null,
   "metadata": {},
   "outputs": [],
   "source": []
  },
  {
   "cell_type": "markdown",
   "metadata": {},
   "source": [
    "Дадена е тенка триаголна плоча со рамномерна густина и дебелина со точки во координатите $x = (0, 1)$, $y = (8, 1)$ и $v_3=(2, 4)$.\n",
    "\n",
    "а) Да се најде рамнотежната точка на плочата.\n",
    "\n",
    "б) Сакаме плочката да има рамнотежна точка во координатите $(2, 2)$. Како треба да ја прераспределиме густината на плочката во точките $x, y$ и $z$ за да плочката има рамнотежна точка во $(2, 2)$?"
   ]
  },
  {
   "cell_type": "code",
   "execution_count": null,
   "metadata": {},
   "outputs": [],
   "source": []
  },
  {
   "cell_type": "markdown",
   "metadata": {},
   "source": [
    "Да се балансира равенката со цел хемиската реакција да биде можна:\n",
    "$$NaHCO_3 + H_3 C_6 H_5 O_7 \\to Na_3 C_6 H_5 O_7 + H_2 O + CO_2$$"
   ]
  },
  {
   "cell_type": "code",
   "execution_count": null,
   "metadata": {},
   "outputs": [],
   "source": []
  },
  {
   "cell_type": "markdown",
   "metadata": {},
   "source": [
    "Колкава пропорција од шпагети, пилешко и зелена салата треба да се земе за да се подготви јадење кое ќе се состои од 600 калории, $45g$ протеини и $15g$ растителни влакна?\n",
    "\n",
    "Податоци за хранливи состојки при порција храна\n",
    "\n",
    "\\begin{align*}\n",
    "\\textbf{Хран. сост.} && \\textbf{Шпагети} && \\textbf{Пилешко} && \\textbf{Зелена салата} \\\\\n",
    "Калории && 270 && 70 && 51 \\\\\n",
    "Протеини (g) && 10 && 15 && 5.4 \\\\\n",
    "Раст. влакна (g) && 2 && 0 && 5.2 \n",
    "\\end{align*}"
   ]
  },
  {
   "cell_type": "code",
   "execution_count": null,
   "metadata": {},
   "outputs": [],
   "source": []
  }
 ],
 "metadata": {
  "kernelspec": {
   "display_name": "Python 3",
   "language": "python",
   "name": "python3"
  },
  "language_info": {
   "codemirror_mode": {
    "name": "ipython",
    "version": 3
   },
   "file_extension": ".py",
   "mimetype": "text/x-python",
   "name": "python",
   "nbconvert_exporter": "python",
   "pygments_lexer": "ipython3",
   "version": "3.11.4"
  }
 },
 "nbformat": 4,
 "nbformat_minor": 2
}
