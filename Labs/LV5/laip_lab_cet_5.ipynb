{
 "nbformat": 4,
 "nbformat_minor": 0,
 "metadata": {
  "colab": {
   "provenance": []
  },
  "kernelspec": {
   "name": "python3",
   "display_name": "Python 3 (ipykernel)",
   "language": "python"
  },
  "language_info": {
   "name": "python"
  }
 },
 "cells": [
  {
   "cell_type": "markdown",
   "source": "# Лабораториска вежба бр. 5",
   "metadata": {
    "id": "_w8nWjU8Gdxo"
   }
  },
  {
   "cell_type": "markdown",
   "source": [
    "## Вовед"
   ],
   "metadata": {
    "id": "ibrVhe8sGdpQ"
   }
  },
  {
   "cell_type": "markdown",
   "source": [
    "**Сопствени вектори** и **сопствени вредности** (анг. *eigenvectors*, *eigenvalues*) се термини кои опишуваат одредени својства кај квадратните матрици.\n",
    "\n",
    "Нека $A$ е квадратна матрица и нека важи равенството\n",
    "$$A \\mathbf{v} = \\lambda \\mathbf{v}$$\n",
    "за некој вектор $\\mathbf{v}$ и некој скалар $\\lambda$.  \n",
    "Векторот $\\mathbf{v}$ се нарекува сопствен вектор на матрицата $A$, и тој соодветствува на сопствената вредност $\\lambda$.\n",
    "\n",
    "За пресметка на сопствените вектори и сопствените вредности во `numpy` ќе ја користиме функцијата `numpy.linalg.eig`."
   ],
   "metadata": {
    "id": "Dm44dZ8qGlsQ"
   }
  },
  {
   "cell_type": "code",
   "source": [
    "import numpy as np\n",
    "\n",
    "A = np.array([[1, 2], [2, 8]])\n",
    "\n",
    "eigenvalues, eigenvectors = np.linalg.eig(A)\n",
    "\n",
    "print(eigenvalues, end='\\n\\n')\n",
    "print(eigenvectors, end='\\n\\n')\n",
    "\n",
    "# Внимавај на индексирањето\n",
    "print('Сопствената вредност: ', eigenvalues[1])\n",
    "print(' одговара на сопствениот вектор: ', eigenvectors[:, 1])"
   ],
   "metadata": {
    "colab": {
     "base_uri": "https://localhost:8080/"
    },
    "id": "dwg6ymvwGeba",
    "outputId": "f5daa034-ab24-43b2-aca4-51cee37fc6e2",
    "ExecuteTime": {
     "end_time": "2024-11-28T13:04:48.906067Z",
     "start_time": "2024-11-28T13:04:48.720980Z"
    }
   },
   "outputs": [
    {
     "name": "stdout",
     "output_type": "stream",
     "text": [
      "[0.46887113 8.53112887]\n",
      "\n",
      "[[-0.96649965 -0.25666794]\n",
      " [ 0.25666794 -0.96649965]]\n",
      "\n",
      "Сопствената вредност:  8.531128874149275\n",
      " одговара на сопствениот вектор:  [-0.25666794 -0.96649965]\n"
     ]
    }
   ],
   "execution_count": 2
  },
  {
   "cell_type": "markdown",
   "source": [
    "Сопствените вектори пред и по трансформација го имаат истиот правец, па така матрицата $A$ во равенката\n",
    "$$A \\mathbf{v} = \\lambda \\mathbf{v}$$\n",
    "ја интерпретираме како скалирачка функција за сопствените вектори."
   ],
   "metadata": {
    "id": "8SjH6C5UOIa3"
   }
  },
  {
   "cell_type": "markdown",
   "source": [
    "![b-eigenvector.svg](data:image/svg+xml;base64,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)"
   ],
   "metadata": {
    "id": "fKKBEftCQGjY"
   }
  },
  {
   "cell_type": "markdown",
   "source": [
    "На примерот на сликата гледаме како само векторите кои лежат на оската на ротација (сино) нема да се ротираат, туку само ќе се скалираат ($\\lambda = 1$)."
   ],
   "metadata": {
    "id": "QZCxv8E-QLBt"
   }
  },
  {
   "cell_type": "markdown",
   "source": [
    "Сопствените вредности може да бидат и комплексни броеви. Во поголемиот дел од вежбите ќе работиме само со реални сопствени вредности. Поради можни грешки во пресметковната прецизност од страна на `numpy`, некогаш ќе биде потребно да ги кастираме вредностите во реални броеви."
   ],
   "metadata": {
    "id": "RqZGr6kQUgrV"
   }
  },
  {
   "cell_type": "code",
   "source": [
    "eigenvalues = np.real(eigenvalues)\n",
    "eigenvectors = np.real(eigenvectors)"
   ],
   "metadata": {
    "id": "fDrEo3iCVCoT",
    "ExecuteTime": {
     "end_time": "2024-11-28T13:04:48.913615Z",
     "start_time": "2024-11-28T13:04:48.906067Z"
    }
   },
   "outputs": [],
   "execution_count": 3
  },
  {
   "cell_type": "markdown",
   "source": [
    "**Дијагонализација** на квадратната матрица $A$ е претворање на истата (ако е можно) во форма $PDP^{-1}$ каде $P$ ги содржи сопствените вектори, а $D$ е дијагонална матрица од сопствените вредности."
   ],
   "metadata": {
    "id": "2uDjyUhOQfyl"
   }
  },
  {
   "cell_type": "code",
   "source": [
    "A = np.random.random((4, 4))\n",
    "A = (A + A.T) / 2  # Симетрични матрици секогаш може да се дијагонализираат\n",
    "\n",
    "eigenvalues, eigenvectors = np.linalg.eig(A)\n",
    "\n",
    "P = eigenvectors\n",
    "D = np.diag(eigenvalues)\n",
    "\n",
    "P_inv = np.linalg.inv(P)\n",
    "B = P @ D @ P_inv\n",
    "\n",
    "# Двете матрици треба да се идентични\n",
    "print(A, end='\\n\\n')\n",
    "print(B)"
   ],
   "metadata": {
    "colab": {
     "base_uri": "https://localhost:8080/"
    },
    "id": "bwX6kTA5OHOO",
    "outputId": "190a8f4e-d569-41bd-cc14-fd3874e5fc64",
    "ExecuteTime": {
     "end_time": "2024-11-28T13:04:48.941663Z",
     "start_time": "2024-11-28T13:04:48.914625Z"
    }
   },
   "outputs": [
    {
     "name": "stdout",
     "output_type": "stream",
     "text": [
      "[[0.0540151  0.39505349 0.17870352 0.35951766]\n",
      " [0.39505349 0.74602178 0.53198969 0.24807586]\n",
      " [0.17870352 0.53198969 0.90739345 0.71994227]\n",
      " [0.35951766 0.24807586 0.71994227 0.41527492]]\n",
      "\n",
      "[[0.0540151  0.39505349 0.17870352 0.35951766]\n",
      " [0.39505349 0.74602178 0.53198969 0.24807586]\n",
      " [0.17870352 0.53198969 0.90739345 0.71994227]\n",
      " [0.35951766 0.24807586 0.71994227 0.41527492]]\n"
     ]
    }
   ],
   "execution_count": 4
  },
  {
   "cell_type": "markdown",
   "source": [
    "## Основен дел"
   ],
   "metadata": {
    "id": "7LVwlsn2GdfT"
   }
  },
  {
   "cell_type": "markdown",
   "source": [
    "Да се пресметаат сопствените вектори и сопствените вредности на матрицата\n",
    "$$A = \\begin{bmatrix}1 & 3 \\\\ 2 & 0\\end{bmatrix}.$$"
   ],
   "metadata": {
    "id": "hQObW6vVgqTo"
   }
  },
  {
   "cell_type": "code",
   "source": [
    "A = np.array([[1, 3], [2, 0]])\n",
    "\n",
    "eigenvalues, eigenvectors = np.linalg.eig(A)\n",
    "\n",
    "print(eigenvalues, end='\\n\\n')\n",
    "print(eigenvectors, end='\\n\\n')"
   ],
   "metadata": {
    "id": "3t20KzyMGeut",
    "ExecuteTime": {
     "end_time": "2024-11-28T13:06:37.048441Z",
     "start_time": "2024-11-28T13:06:37.040414Z"
    }
   },
   "outputs": [
    {
     "name": "stdout",
     "output_type": "stream",
     "text": [
      "[ 3. -2.]\n",
      "\n",
      "[[ 0.83205029 -0.70710678]\n",
      " [ 0.5547002   0.70710678]]\n",
      "\n"
     ]
    }
   ],
   "execution_count": 8
  },
  {
   "cell_type": "markdown",
   "source": [
    "Да се пресметаат сопствените вектори и сопствените вредности за матрицата\n",
    "$$A = \\begin{bmatrix}-2 & 0 & 0 \\\\ 0 & -3 & 0 \\\\ 0 & 0 & 2\\end{bmatrix}.$$\n",
    "\n",
    "Што забележуваш за сопствените вредности?"
   ],
   "metadata": {
    "id": "66G8h_qjgqyV"
   }
  },
  {
   "cell_type": "code",
   "source": [
    "A = np.array([[-2, 0, 0], [0, -3, 0], [0, 0, 2]])\n",
    "eigenValues, eigenVectors, = np.linalg.eig(A)\n",
    "print(eigenValues)\n",
    "print(eigenVectors)"
   ],
   "metadata": {
    "id": "U7rsg4RagrK4",
    "ExecuteTime": {
     "end_time": "2024-11-28T13:06:45.220030Z",
     "start_time": "2024-11-28T13:06:45.213140Z"
    }
   },
   "outputs": [
    {
     "name": "stdout",
     "output_type": "stream",
     "text": [
      "[-2. -3.  2.]\n",
      "[[1. 0. 0.]\n",
      " [0. 1. 0.]\n",
      " [0. 0. 1.]]\n"
     ]
    }
   ],
   "execution_count": 9
  },
  {
   "metadata": {},
   "cell_type": "markdown",
   "source": "EigenValues are the same with the non 0 entries in each row in the matrix A"
  },
  {
   "cell_type": "markdown",
   "source": [
    "Дадена е сингуларната матрица $$A = \\begin{bmatrix}1 & 2 \\\\ 3 & 6\\end{bmatrix},$$\n",
    "т.е. $det(A) = 0$.\n",
    "\n",
    "Да се пресметаат сопствените вредности и да се утврди дека 0 е една од сопствените вредности.\n",
    "\n"
   ],
   "metadata": {
    "id": "g88_v4zqhrUS"
   }
  },
  {
   "cell_type": "code",
   "source": [
    "A = np.array([[1, 2], [3, 6]])\n",
    "eigenValues, eigenVectors, = np.linalg.eig(A)\n",
    "print(eigenValues)\n",
    "print(eigenVectors)\n",
    "for value in eigenValues:\n",
    "    if value == 0:\n",
    "        print(\"There is an eigenvalue == 0\")"
   ],
   "metadata": {
    "id": "RrdK4KF_hrxy",
    "ExecuteTime": {
     "end_time": "2024-11-28T13:07:17.799688Z",
     "start_time": "2024-11-28T13:07:17.781651Z"
    }
   },
   "outputs": [
    {
     "name": "stdout",
     "output_type": "stream",
     "text": [
      "[0. 7.]\n",
      "[[-0.89442719 -0.31622777]\n",
      " [ 0.4472136  -0.9486833 ]]\n",
      "There is an eigenvalue == 0\n"
     ]
    }
   ],
   "execution_count": 10
  },
  {
   "cell_type": "markdown",
   "source": [
    "Дадена е сингуларната матрица $$A = \\begin{bmatrix}2 & 2 & -2 \\\\ 5 & 1 & -3 \\\\ 1 & 5 & -3\\end{bmatrix}.$$\n",
    "\n",
    "а) Утврди дека сите сопствени вредности на матрицата се 0. Притоа имај ги предвид можните нумерички грешки кои може да се појават поради прецизноста со која се претставуваат броевите во `Python`.\n",
    "\n",
    "б) Ваквиот тип на матрици $N$ со сопствени вредности нула (анг. *Nilpotent*) го имаат следното својство: $$N^k = \\mathbf{0}$$ за некој позитивен цел број $k$. Најди го најмалиот таков број за матрицата $A$.\n"
   ],
   "metadata": {
    "id": "xNQpFeXsjBOj"
   }
  },
  {
   "cell_type": "code",
   "source": [
    "A = np.array([[2, 2, -2], [5, 1, -3], [1, 5, -3]])\n",
    "eigenValues, eigenVectors, = np.linalg.eig(A)\n",
    "roundedEigenValues = (np.round(np.real(eigenValues)))\n",
    "# print(roundedEigenValues)\n",
    "if len(list(filter(lambda x: x == 0, roundedEigenValues))) == len(roundedEigenValues):\n",
    "    print(\"All the eigenValues are 0\")\n",
    "    print(\"Proof,\", roundedEigenValues)"
   ],
   "metadata": {
    "id": "BUrXTWjVjAkV",
    "ExecuteTime": {
     "end_time": "2024-11-28T13:07:48.568660Z",
     "start_time": "2024-11-28T13:07:48.545872Z"
    }
   },
   "outputs": [
    {
     "name": "stdout",
     "output_type": "stream",
     "text": [
      "All the eigenValues are 0\n",
      "Proof, [-0.  0.  0.]\n"
     ]
    }
   ],
   "execution_count": 11
  },
  {
   "metadata": {
    "ExecuteTime": {
     "end_time": "2024-11-28T13:08:02.645633Z",
     "start_time": "2024-11-28T13:08:02.631630Z"
    }
   },
   "cell_type": "code",
   "source": [
    "k = 1\n",
    "zeroMatrix  =np.zeros((3, 3))\n",
    "while True:\n",
    "    matrixProduct = A\n",
    "    for i in range(2,k+1):\n",
    "        matrixProduct = matrixProduct @ A\n",
    "    if np.array_equal(matrixProduct, zeroMatrix):\n",
    "        break\n",
    "    k += 1\n",
    "    \n",
    "print(\"For k =\",k,f\", A^{k} = 0\")"
   ],
   "outputs": [
    {
     "name": "stdout",
     "output_type": "stream",
     "text": [
      "For k = 3 , A^3 = 0\n"
     ]
    }
   ],
   "execution_count": 12
  },
  {
   "cell_type": "markdown",
   "source": [
    "За произволна матрица $A$, провери дека скалиран сопствен вектор за сопствената вредност $\\lambda$ е исто така сопствен вектор.\n",
    "\n",
    "Односно покажи дека ако важи\n",
    "$$A\\mathbf{v} = \\lambda \\mathbf{v},$$\n",
    "тогаш исто важи и\n",
    "$$A(k\\mathbf{v}) = \\lambda k \\mathbf{v}$$\n",
    "за произволен скалар $k$."
   ],
   "metadata": {
    "id": "jyA4t6g5kP-e"
   }
  },
  {
   "cell_type": "code",
   "source": [
    "A = np.array([[-2, 0, 0], [0, -3, 0], [0, 0, 2]])\n",
    "eigenValues, eigenVectors, = np.linalg.eig(A)\n",
    "# print(eigenValues)\n",
    "# print(eigenVectors)\n",
    "\n",
    "eigen_vector= eigenVectors[0]\n",
    "print(\"For A =\\n\", A,\"\\nand eigenvector v = \",eigen_vector)\n",
    "print(\"Av = \", A @ eigen_vector,\",where lamda=\", eigenValues[0])\n",
    "k1 = 3\n",
    "scaled_eigen_vector = k1 * eigen_vector\n",
    "print(\"If we scale v with k = 3 -> v =\", scaled_eigen_vector)\n",
    "print(\"Then, A(kv) = \", A @ (k * eigen_vector), \"which is the same with lamda*kv=\", eigenValues[0] * k * eigen_vector)"
   ],
   "metadata": {
    "id": "qJuvo53-kPvX",
    "ExecuteTime": {
     "end_time": "2024-11-28T13:08:54.114839Z",
     "start_time": "2024-11-28T13:08:54.091679Z"
    }
   },
   "outputs": [
    {
     "name": "stdout",
     "output_type": "stream",
     "text": [
      "For A =\n",
      " [[-2  0  0]\n",
      " [ 0 -3  0]\n",
      " [ 0  0  2]] \n",
      "and eigenvector v =  [1. 0. 0.]\n",
      "Av =  [-2.  0.  0.] ,where lamda= -2.0\n",
      "If we scale v with k = 3 -> v = [3. 0. 0.]\n",
      "Then, A(kv) =  [-6.  0.  0.] which is the same with lamda*kv= [-6. -0. -0.]\n"
     ]
    }
   ],
   "execution_count": 13
  },
  {
   "cell_type": "markdown",
   "source": [
    "Дефинирајте матрица на ротација $R$ во 2D простор.\n",
    "\n",
    "а) Пред да ги пресметате сопствените вредности и сопствените вектори, размислете како изгледа трансформацијата за аглите $\\alpha = 90^{\\circ}$ и $\\alpha = 180^{\\circ}$.\n",
    "\n",
    "Кои сопствени вредности ги очекуваме да се добијат?\n",
    "\n",
    "б) Пресметај ги сопствените вредности."
   ],
   "metadata": {
    "id": "hTlZPkotlLvq"
   }
  },
  {
   "cell_type": "code",
   "source": [
    "def get_rotation_matrix(theta):\n",
    "    theta_rad = np.radians(theta)\n",
    "    return np.array([\n",
    "        [np.cos(theta_rad), -np.sin(theta_rad)],\n",
    "        [np.sin(theta_rad), np.cos(theta_rad)]\n",
    "    ])"
   ],
   "metadata": {
    "id": "P08lh2aYkPsI",
    "ExecuteTime": {
     "end_time": "2024-11-28T13:09:25.160988Z",
     "start_time": "2024-11-28T13:09:25.152269Z"
    }
   },
   "outputs": [],
   "execution_count": 14
  },
  {
   "metadata": {
    "ExecuteTime": {
     "end_time": "2024-11-28T13:09:31.248182Z",
     "start_time": "2024-11-28T13:09:31.237267Z"
    }
   },
   "cell_type": "code",
   "source": [
    "rotation_by_90 = np.round(get_rotation_matrix(90))\n",
    "rotation_by_180 = np.round(get_rotation_matrix(180))\n",
    "print(\"Rotation by 90\\n\",rotation_by_90)\n",
    "print(\"Rotation by 180\\n\",rotation_by_180)"
   ],
   "outputs": [
    {
     "name": "stdout",
     "output_type": "stream",
     "text": [
      "Rotation by 90\n",
      " [[ 0. -1.]\n",
      " [ 1.  0.]]\n",
      "Rotation by 180\n",
      " [[-1. -0.]\n",
      " [ 0. -1.]]\n"
     ]
    }
   ],
   "execution_count": 15
  },
  {
   "metadata": {
    "ExecuteTime": {
     "end_time": "2024-11-28T13:09:42.013735Z",
     "start_time": "2024-11-28T13:09:42.003840Z"
    }
   },
   "cell_type": "code",
   "source": [
    "eigValues90, eigVectors90 = np.linalg.eig(rotation_by_90)\n",
    "eigValues180, eigVectors180 = np.linalg.eig(rotation_by_180)"
   ],
   "outputs": [],
   "execution_count": 16
  },
  {
   "metadata": {},
   "cell_type": "markdown",
   "source": "We expect to get the eigenvalues [0,0] for rotation by 90, and eigenvalues [-1,-1] for rotation by 180"
  },
  {
   "metadata": {
    "ExecuteTime": {
     "end_time": "2024-11-28T13:10:07.514617Z",
     "start_time": "2024-11-28T13:10:07.505809Z"
    }
   },
   "cell_type": "code",
   "source": "print(\"Eigen values for rotation by 90\",np.real(eigValues90))",
   "outputs": [
    {
     "name": "stdout",
     "output_type": "stream",
     "text": [
      "Eigen values for rotation by 90 [0. 0.]\n"
     ]
    }
   ],
   "execution_count": 17
  },
  {
   "metadata": {
    "ExecuteTime": {
     "end_time": "2024-11-28T13:10:14.975316Z",
     "start_time": "2024-11-28T13:10:14.954422Z"
    }
   },
   "cell_type": "code",
   "source": "print(\"Eigen values for rotation by 90\",np.real(eigValues180))",
   "outputs": [
    {
     "name": "stdout",
     "output_type": "stream",
     "text": [
      "Eigen values for rotation by 90 [-1. -1.]\n"
     ]
    }
   ],
   "execution_count": 18
  },
  {
   "cell_type": "markdown",
   "source": [
    "Направи дијагонализација на матрицата\n",
    "$$A = \\begin{bmatrix}5 & 2 \\\\ 2 & 8\\end{bmatrix}.$$\n",
    "\n",
    "Дали е важен редоследот на множењето на матриците, т.е. дали $PDP^{-1}$ е исто со $P^{-1}DP$?"
   ],
   "metadata": {
    "id": "SZdu70cAl6-z"
   }
  },
  {
   "cell_type": "code",
   "source": [
    "A1 = np.array([[5,2],[2,8]])\n",
    "eigenvalues, eigenvectors = np.linalg.eig(A1)\n",
    "P = eigenvectors\n",
    "D = np.diag(eigenvalues)\n",
    "\n",
    "P_inv = np.linalg.inv(P)\n",
    "Result = P @ D @ P_inv\n",
    "Result_1 = np.round(P @ P_inv @ D)\n",
    "\n",
    "print(\"A=\\n\",A1, end='\\n\\n')\n",
    "print(\"D = \\n\", D, end=\"\\n\\n\")\n",
    "\n",
    "print(\"PDP-1=\\n\",Result)\n",
    "print(\"PP-1D=\\n\",Result_1)\n",
    "print()\n",
    "if np.array_equal(Result,Result_1):\n",
    "    print(\"PDP-1 = PP-1D\")\n",
    "    print(\"The order is not important\")\n",
    "else:\n",
    "    print(\"PDP-1 != PP-1D\")\n",
    "    print(\"The order IS important\")\n",
    "\n",
    "    "
   ],
   "metadata": {
    "id": "cqhAH20ckPaC",
    "ExecuteTime": {
     "end_time": "2024-11-28T13:18:58.816129Z",
     "start_time": "2024-11-28T13:18:58.803964Z"
    }
   },
   "outputs": [
    {
     "name": "stdout",
     "output_type": "stream",
     "text": [
      "A=\n",
      " [[5 2]\n",
      " [2 8]]\n",
      "\n",
      "D = \n",
      " [[4. 0.]\n",
      " [0. 9.]]\n",
      "\n",
      "PDP-1=\n",
      " [[5. 2.]\n",
      " [2. 8.]]\n",
      "PP-1D=\n",
      " [[ 4.  0.]\n",
      " [-0.  9.]]\n",
      "\n",
      "PDP-1 != PP-1D\n",
      "The order IS important\n"
     ]
    }
   ],
   "execution_count": 30
  },
  {
   "cell_type": "markdown",
   "source": [
    "Во кодот што следи е дадена матрица $A$ од случајни вредности од ред $1000 \\times 1000$ која потоа е трансформирана во симетрична матрица (па може да се дијагонализира).\n",
    "\n",
    "а) Да се направи дијагонализација на матрицата.\n",
    "\n",
    "б) Со помош на $P$ и $D$ матриците да се изрази $A^2$ и $A^3$ на лист хартија. Што забележуваш?\n",
    "\n",
    "в) Напиши две функции кои ќе ја пресметаат вредноста на $A^{100}$.\n",
    "\n",
    "Првата функција ќе прави наивно матрично множење на матрицата 100 пати, т.е. $$result = \\underbrace{A A \\cdots A}_{\\text{100 пати}}.$$\n",
    "\n",
    "Втората функција прво ќе ја дијагонализира матрицата, па користејќи го трикот од б) ќе го пресмета 100-тиот степен на матрицата.\n",
    "\n",
    "Пред извршувањето на секоја од функциите може да го измерите времето потребно за да заврши пресметката на степенот на матрицата. Од модулот `time` користете ја исто-именуваната функција `time` на следниот начин: `start_time = time()`."
   ],
   "metadata": {
    "id": "9uCyYoHEl9aI"
   }
  },
  {
   "cell_type": "code",
   "source": [
    "from time import time\n",
    "\n",
    "A = np.random.random((1000, 1000))\n",
    "A = (A + A.T) / 2"
   ],
   "metadata": {
    "id": "D8v7dMk1l9-M",
    "ExecuteTime": {
     "end_time": "2024-11-28T13:21:41.778863Z",
     "start_time": "2024-11-28T13:21:41.732779Z"
    }
   },
   "outputs": [],
   "execution_count": 32
  },
  {
   "metadata": {
    "ExecuteTime": {
     "end_time": "2024-11-28T13:23:03.183693Z",
     "start_time": "2024-11-28T13:22:59.649760Z"
    }
   },
   "cell_type": "code",
   "source": [
    "eigenvalues, eigenvectors = np.linalg.eig(A)\n",
    "P = eigenvectors\n",
    "D = np.diag(eigenvalues)\n",
    "\n",
    "P_inv = np.linalg.inv(P)\n",
    "Result = P @ D @ P_inv\n",
    "print(Result)"
   ],
   "outputs": [
    {
     "name": "stdout",
     "output_type": "stream",
     "text": [
      "[[0.07401846 0.75278627 0.5954765  ... 0.03164233 0.38159135 0.50941773]\n",
      " [0.75278627 0.29234703 0.6389078  ... 0.58450086 0.79725288 0.52786108]\n",
      " [0.5954765  0.6389078  0.64077399 ... 0.50752302 0.36395323 0.72623691]\n",
      " ...\n",
      " [0.03164233 0.58450086 0.50752302 ... 0.50467781 0.1065792  0.3935648 ]\n",
      " [0.38159135 0.79725288 0.36395323 ... 0.1065792  0.77886763 0.27195698]\n",
      " [0.50941773 0.52786108 0.72623691 ... 0.3935648  0.27195698 0.19713778]]\n"
     ]
    }
   ],
   "execution_count": 39
  },
  {
   "metadata": {
    "ExecuteTime": {
     "end_time": "2024-11-28T13:28:52.085493Z",
     "start_time": "2024-11-28T13:28:49.764457Z"
    }
   },
   "cell_type": "code",
   "source": [
    "start_time_1 = time()\n",
    "A100 = A.copy()\n",
    "for i in range(2, 101):\n",
    "    A100 = A100 @ A\n",
    "end_time_1 = time()\n",
    "print(\"Time needed:\", end_time_1 - start_time_1 )\n",
    "A100"
   ],
   "outputs": [
    {
     "name": "stdout",
     "output_type": "stream",
     "text": [
      "Time needed: 2.309107542037964\n"
     ]
    },
    {
     "data": {
      "text/plain": [
       "array([[7.48340423e+266, 7.53504897e+266, 7.59291411e+266, ...,\n",
       "        7.73668800e+266, 7.64881477e+266, 7.45814829e+266],\n",
       "       [7.53504897e+266, 7.58705013e+266, 7.64531461e+266, ...,\n",
       "        7.79008072e+266, 7.70160105e+266, 7.50961873e+266],\n",
       "       [7.59291411e+266, 7.64531461e+266, 7.70402653e+266, ...,\n",
       "        7.84990437e+266, 7.76074522e+266, 7.56728858e+266],\n",
       "       ...,\n",
       "       [7.73668800e+266, 7.79008072e+266, 7.84990437e+266, ...,\n",
       "        7.99854444e+266, 7.90769705e+266, 7.71057725e+266],\n",
       "       [7.64881477e+266, 7.70160105e+266, 7.76074522e+266, ...,\n",
       "        7.90769705e+266, 7.81788150e+266, 7.62300058e+266],\n",
       "       [7.45814829e+266, 7.50961873e+266, 7.56728858e+266, ...,\n",
       "        7.71057725e+266, 7.62300058e+266, 7.43297758e+266]])"
      ]
     },
     "execution_count": 49,
     "metadata": {},
     "output_type": "execute_result"
    }
   ],
   "execution_count": 49
  },
  {
   "metadata": {
    "ExecuteTime": {
     "end_time": "2024-11-28T13:29:53.274831Z",
     "start_time": "2024-11-28T13:29:51.625945Z"
    }
   },
   "cell_type": "code",
   "source": [
    "start_time_2 = time()\n",
    "D100 = D ** 100\n",
    "A100_other_way = P @ D100 @ P_inv\n",
    "end_time_2 = time()\n",
    "print(\"Time needed =\", end_time_2 - start_time_2)\n",
    "A100_other_way"
   ],
   "outputs": [
    {
     "name": "stdout",
     "output_type": "stream",
     "text": [
      "Time needed = 1.6349053382873535\n"
     ]
    },
    {
     "data": {
      "text/plain": [
       "array([[7.48340423e+266, 7.53504897e+266, 7.59291411e+266, ...,\n",
       "        7.73668800e+266, 7.64881477e+266, 7.45814829e+266],\n",
       "       [7.53504897e+266, 7.58705013e+266, 7.64531461e+266, ...,\n",
       "        7.79008072e+266, 7.70160105e+266, 7.50961873e+266],\n",
       "       [7.59291411e+266, 7.64531461e+266, 7.70402653e+266, ...,\n",
       "        7.84990437e+266, 7.76074522e+266, 7.56728858e+266],\n",
       "       ...,\n",
       "       [7.73668800e+266, 7.79008072e+266, 7.84990437e+266, ...,\n",
       "        7.99854444e+266, 7.90769705e+266, 7.71057725e+266],\n",
       "       [7.64881477e+266, 7.70160105e+266, 7.76074522e+266, ...,\n",
       "        7.90769705e+266, 7.81788150e+266, 7.62300058e+266],\n",
       "       [7.45814829e+266, 7.50961873e+266, 7.56728858e+266, ...,\n",
       "        7.71057725e+266, 7.62300058e+266, 7.43297758e+266]])"
      ]
     },
     "execution_count": 52,
     "metadata": {},
     "output_type": "execute_result"
    }
   ],
   "execution_count": 52
  },
  {
   "cell_type": "markdown",
   "source": [
    "## Практичен дел"
   ],
   "metadata": {
    "id": "VozwwcEYGdWF"
   }
  },
  {
   "cell_type": "markdown",
   "source": [
    "**Principal Component Analysis** (PCA) е техника за редукција на димензионалност кога податочните множества изобилуваат со голем број на атрибути.\n",
    "\n",
    "Располагаме со податочно множество кое се состои од мерења $X$ - часови потрешени учејќи за предметот „Формални јазици“ и $Y$ - скалирани поени на првиот колоквиум. Дел од податоците се следни: $(8, 0.92)$, $(7, 0.81)$, $(6, 0.72)$, $(5, 0.71)$ и $(5, 0.67)$.\n",
    "\n",
    "Пресметај ја коваријансната матрица на податоците користејќи `np.cov(data, rowvar=False)`. Секоја податочна ставка треба да биде претставена во посебен ред во податочната матрица.\n",
    "\n",
    "Најди ги потоа сопствените вредности и сопствените вектори за коваријансната матрица.\n",
    "\n",
    "Искористи го најголемиот сопствен вектор (кој се однесува на најголемата сопствена вредност) и направи проекција на точките врз тој вектор.\n",
    "Проекцијата се прави со матрично множење на точките со сопствениот вектор.\n",
    "\n",
    "Бонус: Направете визуелизација на оригиналните точки, правата на која лежи сопствениот вектор, и точките по трансформација."
   ],
   "metadata": {
    "id": "eq5Q0bBophbt"
   }
  },
  {
   "cell_type": "code",
   "metadata": {
    "id": "gLeSaNYCSnJT",
    "ExecuteTime": {
     "end_time": "2024-11-28T13:33:23.948556Z",
     "start_time": "2024-11-28T13:33:23.924098Z"
    }
   },
   "source": [
    "data = np.array([[8,0.92], [7,0.81], [6,0.72], [5,0.71], [5,0.67]])\n",
    "cov_matrix = np.cov(data, rowvar=False)\n",
    "cov_matrix"
   ],
   "outputs": [
    {
     "data": {
      "text/plain": [
       "array([[1.7    , 0.126  ],\n",
       "       [0.126  , 0.01003]])"
      ]
     },
     "execution_count": 55,
     "metadata": {},
     "output_type": "execute_result"
    }
   ],
   "execution_count": 55
  },
  {
   "metadata": {
    "ExecuteTime": {
     "end_time": "2024-11-28T13:34:58.262223Z",
     "start_time": "2024-11-28T13:34:58.242792Z"
    }
   },
   "cell_type": "code",
   "source": [
    "cov_eig_values, cov_eig_vectors = np.linalg.eig(cov_matrix)\n",
    "print(\"cov_eig_values =\\n\", cov_eig_values)\n",
    "print(\"cov_eig_vectors =\\n\", cov_eig_vectors)"
   ],
   "outputs": [
    {
     "name": "stdout",
     "output_type": "stream",
     "text": [
      "cov_eig_values =\n",
      " [1.70934260e+00 6.87398769e-04]\n",
      "cov_eig_vectors =\n",
      " [[ 0.99726235 -0.07394464]\n",
      " [ 0.07394464  0.99726235]]\n"
     ]
    }
   ],
   "execution_count": 57
  },
  {
   "metadata": {
    "ExecuteTime": {
     "end_time": "2024-11-28T13:41:42.350210Z",
     "start_time": "2024-11-28T13:41:42.336364Z"
    }
   },
   "cell_type": "code",
   "source": [
    "max_value = max(cov_eig_values)\n",
    "max_value"
   ],
   "outputs": [
    {
     "data": {
      "text/plain": [
       "np.float64(1.709342601230933)"
      ]
     },
     "execution_count": 64,
     "metadata": {},
     "output_type": "execute_result"
    }
   ],
   "execution_count": 64
  },
  {
   "metadata": {
    "ExecuteTime": {
     "end_time": "2024-11-28T13:44:57.374842Z",
     "start_time": "2024-11-28T13:44:57.357259Z"
    }
   },
   "cell_type": "code",
   "source": [
    "max_eig_cov_vector = None\n",
    "index= 0\n",
    "for i,value in enumerate(cov_eig_values):\n",
    "    if value == max_value:\n",
    "        index = i\n",
    "print(index)\n",
    "max_eig_cov_vector = cov_eig_vectors[index]"
   ],
   "outputs": [
    {
     "name": "stdout",
     "output_type": "stream",
     "text": [
      "0\n"
     ]
    }
   ],
   "execution_count": 70
  },
  {
   "metadata": {},
   "cell_type": "code",
   "outputs": [],
   "execution_count": null,
   "source": ""
  },
  {
   "metadata": {
    "ExecuteTime": {
     "end_time": "2024-11-28T13:44:59.646651Z",
     "start_time": "2024-11-28T13:44:59.623254Z"
    }
   },
   "cell_type": "code",
   "source": [
    "transformed_ = data @ max_eig_cov_vector\n",
    "transformed_"
   ],
   "outputs": [
    {
     "data": {
      "text/plain": [
       "array([7.91006972, 6.92094128, 5.93033395, 4.93381105, 4.93676883])"
      ]
     },
     "execution_count": 71,
     "metadata": {},
     "output_type": "execute_result"
    }
   ],
   "execution_count": 71
  },
  {
   "metadata": {
    "ExecuteTime": {
     "end_time": "2024-11-28T13:46:36.787925Z",
     "start_time": "2024-11-28T13:46:36.780119Z"
    }
   },
   "cell_type": "code",
   "source": [
    "import seaborn as sns\n",
    "import pandas as pd"
   ],
   "outputs": [],
   "execution_count": 75
  },
  {
   "metadata": {
    "ExecuteTime": {
     "end_time": "2024-11-28T13:47:02.323547Z",
     "start_time": "2024-11-28T13:47:02.301532Z"
    }
   },
   "cell_type": "code",
   "source": [
    "df = pd.DataFrame(data)\n",
    "df"
   ],
   "outputs": [
    {
     "data": {
      "text/plain": [
       "     0     1\n",
       "0  8.0  0.92\n",
       "1  7.0  0.81\n",
       "2  6.0  0.72\n",
       "3  5.0  0.71\n",
       "4  5.0  0.67"
      ],
      "text/html": [
       "<div>\n",
       "<style scoped>\n",
       "    .dataframe tbody tr th:only-of-type {\n",
       "        vertical-align: middle;\n",
       "    }\n",
       "\n",
       "    .dataframe tbody tr th {\n",
       "        vertical-align: top;\n",
       "    }\n",
       "\n",
       "    .dataframe thead th {\n",
       "        text-align: right;\n",
       "    }\n",
       "</style>\n",
       "<table border=\"1\" class=\"dataframe\">\n",
       "  <thead>\n",
       "    <tr style=\"text-align: right;\">\n",
       "      <th></th>\n",
       "      <th>0</th>\n",
       "      <th>1</th>\n",
       "    </tr>\n",
       "  </thead>\n",
       "  <tbody>\n",
       "    <tr>\n",
       "      <th>0</th>\n",
       "      <td>8.0</td>\n",
       "      <td>0.92</td>\n",
       "    </tr>\n",
       "    <tr>\n",
       "      <th>1</th>\n",
       "      <td>7.0</td>\n",
       "      <td>0.81</td>\n",
       "    </tr>\n",
       "    <tr>\n",
       "      <th>2</th>\n",
       "      <td>6.0</td>\n",
       "      <td>0.72</td>\n",
       "    </tr>\n",
       "    <tr>\n",
       "      <th>3</th>\n",
       "      <td>5.0</td>\n",
       "      <td>0.71</td>\n",
       "    </tr>\n",
       "    <tr>\n",
       "      <th>4</th>\n",
       "      <td>5.0</td>\n",
       "      <td>0.67</td>\n",
       "    </tr>\n",
       "  </tbody>\n",
       "</table>\n",
       "</div>"
      ]
     },
     "execution_count": 77,
     "metadata": {},
     "output_type": "execute_result"
    }
   ],
   "execution_count": 77
  },
  {
   "metadata": {
    "ExecuteTime": {
     "end_time": "2024-11-28T13:47:35.484079Z",
     "start_time": "2024-11-28T13:47:35.308153Z"
    }
   },
   "cell_type": "code",
   "source": "sns.lineplot(df, x=0, y=1)",
   "outputs": [
    {
     "data": {
      "text/plain": [
       "<Axes: xlabel='0', ylabel='1'>"
      ]
     },
     "execution_count": 79,
     "metadata": {},
     "output_type": "execute_result"
    },
    {
     "data": {
      "text/plain": [
       "<Figure size 640x480 with 1 Axes>"
      ],
      "image/png": "[encoded data removed]"
     },
     "metadata": {},
     "output_type": "display_data"
    }
   ],
   "execution_count": 79
  },
  {
   "metadata": {
    "ExecuteTime": {
     "end_time": "2024-11-28T14:19:22.142173Z",
     "start_time": "2024-11-28T14:19:22.130349Z"
    }
   },
   "cell_type": "code",
   "source": [
    "new_data = []\n",
    "for value in transformed_:\n",
    "    new_data.append(value * max_eig_cov_vector)\n",
    "\n",
    "new_data = np.array(new_data)\n",
    "new_data"
   ],
   "outputs": [
    {
     "data": {
      "text/plain": [
       "array([[ 7.8884147 , -0.58490724],\n",
       "       [ 6.90199415, -0.5117665 ],\n",
       "       [ 5.91409876, -0.4385164 ],\n",
       "       [ 4.92030399, -0.36482887],\n",
       "       [ 4.92325368, -0.36504759]])"
      ]
     },
     "execution_count": 113,
     "metadata": {},
     "output_type": "execute_result"
    }
   ],
   "execution_count": 113
  },
  {
   "metadata": {
    "ExecuteTime": {
     "end_time": "2024-11-28T14:19:36.429793Z",
     "start_time": "2024-11-28T14:19:36.409729Z"
    }
   },
   "cell_type": "code",
   "source": "data",
   "outputs": [
    {
     "data": {
      "text/plain": [
       "array([[8.  , 0.92],\n",
       "       [7.  , 0.81],\n",
       "       [6.  , 0.72],\n",
       "       [5.  , 0.71],\n",
       "       [5.  , 0.67]])"
      ]
     },
     "execution_count": 114,
     "metadata": {},
     "output_type": "execute_result"
    }
   ],
   "execution_count": 114
  },
  {
   "metadata": {
    "ExecuteTime": {
     "end_time": "2024-11-28T14:17:53.913706Z",
     "start_time": "2024-11-28T14:17:53.772964Z"
    }
   },
   "cell_type": "code",
   "source": "sns.lineplot(pd.DataFrame(new_data), x=0, y=1)",
   "outputs": [
    {
     "data": {
      "text/plain": [
       "<Axes: xlabel='0', ylabel='1'>"
      ]
     },
     "execution_count": 110,
     "metadata": {},
     "output_type": "execute_result"
    },
    {
     "data": {
      "text/plain": [
       "<Figure size 640x480 with 1 Axes>"
      ],
      "image/png": "[encoded data removed]"
     },
     "metadata": {},
     "output_type": "display_data"
    }
   ],
   "execution_count": 110
  },
  {
   "cell_type": "markdown",
   "source": [
    "На сликата е даден граф на пријателство. Помеѓу два индивидуи (претставени со темиња) постои ребро ако и само ако тие се пријатели. Пријателството е обострано."
   ],
   "metadata": {
    "id": "y4qzMmlFexkH"
   }
  },
  {
   "cell_type": "markdown",
   "source": [
    "![undirected-graph-with-7-nodes-and-7-edges.png](data:image/png;base64,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)"
   ],
   "metadata": {
    "id": "um9k5wK5eyAE"
   }
  },
  {
   "cell_type": "markdown",
   "source": [
    "а) Да се дефинира матрицата на соседство $A$.\n",
    "\n",
    "б) Да се пресметаат сопствените вредности и сопствените вектори на матрицата $A$.\n",
    "\n",
    "в) Да се извлечат координатите на сопствениот вектор кој одговара на најголемата сопствена вредност. Векторот да се нормализира (`v / sum(v)`). Секоја поединечна координата ќе ја интерпретираме како мерка за вздруженост на индивидуата со неговите пријатели. Која индивидуа има најголема мерка на вздруженост? Дали векторот од мерките на вздруженост се лесно интерпретабилни согледувајќи го графикот на сликата?\n",
    "\n"
   ],
   "metadata": {
    "id": "zbrMGcpbeyYd"
   }
  },
  {
   "cell_type": "code",
   "source": [
    "adj_matrix_A = np.array([[0,1,0,1,0,0,0],\n",
    "                        [1,0,1,0,0,0,0],\n",
    "                        [0,1,0,1,1,0,0],\n",
    "                         [1,0,1,0,0,0,0],\n",
    "                         [0,0,1,0,0,1,1],\n",
    "                         [0,0,0,0,1,0,0],\n",
    "                         [0,0,0,0,1,0,0]\n",
    "                         ])"
   ],
   "metadata": {
    "id": "WPUQL8pdph8r",
    "ExecuteTime": {
     "end_time": "2024-11-28T14:14:28.401008Z",
     "start_time": "2024-11-28T14:14:28.384930Z"
    }
   },
   "outputs": [],
   "execution_count": 95
  },
  {
   "metadata": {
    "ExecuteTime": {
     "end_time": "2024-11-28T14:14:28.614714Z",
     "start_time": "2024-11-28T14:14:28.595608Z"
    }
   },
   "cell_type": "code",
   "source": [
    "adj_eig_values, adj_eig_vectors = np.linalg.eig(adj_matrix_A)\n",
    "print(adj_eig_values)\n",
    "print(adj_eig_vectors)"
   ],
   "outputs": [
    {
     "name": "stdout",
     "output_type": "stream",
     "text": [
      "[-2.23606798e+00 -1.41421356e+00  2.58294518e-16  2.23606798e+00\n",
      "  1.41421356e+00  0.00000000e+00  0.00000000e+00]\n",
      "[[-3.65148372e-01  4.08248290e-01  6.32455532e-01 -3.65148372e-01\n",
      "  -4.08248290e-01  3.71704393e-17  3.71704393e-17]\n",
      " [ 4.08248290e-01 -2.88675135e-01  4.34048725e-18 -4.08248290e-01\n",
      "  -2.88675135e-01  5.00000000e-01  5.00000000e-01]\n",
      " [-5.47722558e-01 -4.62223103e-16 -6.32455532e-01 -5.47722558e-01\n",
      "   1.77811526e-16 -3.71704393e-17 -3.71704393e-17]\n",
      " [ 4.08248290e-01 -2.88675135e-01  5.98516385e-17 -4.08248290e-01\n",
      "  -2.88675135e-01 -5.00000000e-01 -5.00000000e-01]\n",
      " [ 4.08248290e-01  5.77350269e-01  1.76287094e-16 -4.08248290e-01\n",
      "   5.77350269e-01  3.41587667e-32  3.41587667e-32]\n",
      " [-1.82574186e-01 -4.08248290e-01  3.16227766e-01 -1.82574186e-01\n",
      "   4.08248290e-01  5.00000000e-01 -5.00000000e-01]\n",
      " [-1.82574186e-01 -4.08248290e-01  3.16227766e-01 -1.82574186e-01\n",
      "   4.08248290e-01 -5.00000000e-01  5.00000000e-01]]\n"
     ]
    }
   ],
   "execution_count": 96
  },
  {
   "metadata": {
    "ExecuteTime": {
     "end_time": "2024-11-28T14:14:28.662142Z",
     "start_time": "2024-11-28T14:14:28.654418Z"
    }
   },
   "cell_type": "code",
   "source": [
    "def get_max_eig_vector(eig_values, eig_vectors):\n",
    "    max_value = max(eig_values)\n",
    "    index = 0\n",
    "    for i, value in enumerate(eig_values):\n",
    "        if value == max_value:\n",
    "            index = i\n",
    "    max_eig_vector = eig_vectors[index]\n",
    "    return max_eig_vector, max_value"
   ],
   "outputs": [],
   "execution_count": 97
  },
  {
   "metadata": {
    "ExecuteTime": {
     "end_time": "2024-11-28T14:14:28.740261Z",
     "start_time": "2024-11-28T14:14:28.721456Z"
    }
   },
   "cell_type": "code",
   "source": [
    "max_adj_vector, max_adj_value = get_max_eig_vector(adj_eig_values, adj_eig_vectors)\n",
    "print(max_adj_vector)\n",
    "print(max_adj_value)"
   ],
   "outputs": [
    {
     "name": "stdout",
     "output_type": "stream",
     "text": [
      "[ 4.08248290e-01 -2.88675135e-01  5.98516385e-17 -4.08248290e-01\n",
      " -2.88675135e-01 -5.00000000e-01 -5.00000000e-01]\n",
      "2.23606797749979\n"
     ]
    }
   ],
   "execution_count": 98
  },
  {
   "metadata": {
    "ExecuteTime": {
     "end_time": "2024-11-28T14:14:28.792667Z",
     "start_time": "2024-11-28T14:14:28.784069Z"
    }
   },
   "cell_type": "code",
   "source": [
    "normalized = max_adj_vector / np.sum(max_adj_vector)\n",
    "print(normalized)"
   ],
   "outputs": [
    {
     "name": "stdout",
     "output_type": "stream",
     "text": [
      "[-2.58819045e-01  1.83012702e-01 -3.79444183e-17  2.58819045e-01\n",
      "  1.83012702e-01  3.16987298e-01  3.16987298e-01]\n"
     ]
    }
   ],
   "execution_count": 99
  },
  {
   "metadata": {
    "ExecuteTime": {
     "end_time": "2024-11-28T14:14:28.856097Z",
     "start_time": "2024-11-28T14:14:28.847838Z"
    }
   },
   "cell_type": "code",
   "source": [
    "def get_highest_vzdruzhenost(vector):\n",
    "    max_value = max(vector)\n",
    "    index = 0\n",
    "    for i, value in enumerate(vector):\n",
    "        if value == max_value:\n",
    "            return i + 1"
   ],
   "outputs": [],
   "execution_count": 100
  },
  {
   "metadata": {
    "ExecuteTime": {
     "end_time": "2024-11-28T14:14:28.918901Z",
     "start_time": "2024-11-28T14:14:28.910379Z"
    }
   },
   "cell_type": "code",
   "source": "print(max(normalized))",
   "outputs": [
    {
     "name": "stdout",
     "output_type": "stream",
     "text": [
      "0.3169872981077807\n"
     ]
    }
   ],
   "execution_count": 101
  },
  {
   "metadata": {
    "ExecuteTime": {
     "end_time": "2024-11-28T14:14:29.018119Z",
     "start_time": "2024-11-28T14:14:28.999845Z"
    }
   },
   "cell_type": "code",
   "source": "print(\"Friend with highest vzdruzhenost is \", get_highest_vzdruzhenost(normalized))",
   "outputs": [
    {
     "name": "stdout",
     "output_type": "stream",
     "text": [
      "Friend with highest vzdruzhenost is  6\n"
     ]
    }
   ],
   "execution_count": 102
  },
  {
   "cell_type": "markdown",
   "source": [
    "Следниот тип на анализа се применува за проучување на популацијата на стадо бизони. Популацијата на бизони ќе ја поделиме во три групи: малолетници кои имаат помалку од една година; годишници од една до две години; и возрасни кои се постари од две години.\n",
    "\n",
    "Секоја година  \n",
    "- 80% од малолетниците преживуваат и стануваат годишници;  \n",
    "- 90% до годишниците преживуваат и стануваат возрасни;  \n",
    "- 80% од возрасните преживуваат;\n",
    "- 40% од возрасните раѓаат малолетник.\n",
    "\n",
    "Дефинирај ја матрицата $A$ од веројатности бизон од еден тип да премине во друг тип.\n",
    "\n",
    "а) Нека $x$ е вектор од некоја почетна популација што ќе ја дефинирате вие. Што се случува со популацијата по неколку години?\n",
    "\n",
    "б) Промени ја веројатноста за возрасните да раѓаат малолетници на 30% и 20%. Како се однесуваат овие промени врз развојот на стадото низ времето?"
   ],
   "metadata": {
    "id": "XX71DUdJsgFq"
   }
  },
  {
   "cell_type": "code",
   "source": [],
   "metadata": {
    "id": "cUjwl6Susgkt",
    "ExecuteTime": {
     "end_time": "2024-11-28T14:14:29.091236Z",
     "start_time": "2024-11-28T14:14:29.081381Z"
    }
   },
   "outputs": [],
   "execution_count": 102
  }
 ]
}
