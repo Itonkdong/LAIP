{
  "nbformat": 4,
  "nbformat_minor": 0,
  "metadata": {
    "colab": {
      "provenance": []
    },
    "kernelspec": {
      "name": "python3",
      "display_name": "Python 3"
    },
    "language_info": {
      "name": "python"
    }
  },
  "cells": [
    {
      "cell_type": "markdown",
      "source": [
        "# Лабораториска вежба бр. 2"
      ],
      "metadata": {
        "id": "uV-FDj2jf1tv"
      }
    },
    {
      "cell_type": "markdown",
      "source": [
        "## Вовед"
      ],
      "metadata": {
        "id": "abcTPjbQge-A"
      }
    },
    {
      "cell_type": "markdown",
      "source": [
        "Линеарна трансформација е функција за која важи\n",
        "$$T(c_1 u_1+ \\ldots + c_n u_n) = c_1 T(u_1) + \\ldots + c_n T(u_n),$$\n",
        "за произволни вектори $u_1, \\ldots, u_n \\in U$ и скалари $c_1, \\ldots, c_n \\in \\mathbb{R}$\n"
      ],
      "metadata": {
        "id": "mmPgnlWrQidi"
      }
    },
    {
      "cell_type": "markdown",
      "source": [
        "\n",
        "За да знаеме како дејствува една линеарна трансформација врз векторски простор, доволно е да видиме како дејствува трансформацијата врз единечните вектори.\n",
        "\n",
        "Пример, за $\\mathbb{R}^2$ имаме\n",
        "$$T(x) = Ax = \\begin{bmatrix}T\\left( \\begin{bmatrix}1 \\\\ 0\\end{bmatrix}\\right) & T\\left( \\begin{bmatrix}0 \\\\ 1\\end{bmatrix}\\right) \\end{bmatrix}x.$$\n",
        "\n"
      ],
      "metadata": {
        "id": "ZqwFm-4qTQnm"
      }
    },
    {
      "cell_type": "markdown",
      "source": [
        "Ако користиме повеќе трансформации над вектор $x$, тогаш е важно да го запазиме редоследот на извршување на трансформациите, односно постојат матрици $A_1, A_2$ за кои\n",
        "$$A_2 A_1 x \\neq A_1 A_2 x.$$\n",
        "\n",
        "Во изразот $A_2 A_1 x$, прво се применува $A_1$, па $A_2$."
      ],
      "metadata": {
        "id": "_zokkbC2Tp4H"
      }
    },
    {
      "cell_type": "code",
      "source": [
        "import numpy as np\n",
        "\n",
        "A1 = np.array([[1, 2], [3, 4]])     # Дефинирање на матрици\n",
        "A2 = np.array([[5, 6], [7, 8]])\n",
        "\n",
        "x = np.array([-1, 1])               # Дефинирање на вектор\n",
        "\n",
        "B = A1 @ A2                         # Производ на матрици\n",
        "print(B, end='\\n\\n')\n",
        "\n",
        "b1 = A1 @ x                         # Производ на матрица и вектор\n",
        "b2 = A2 @ x\n",
        "print(b1, b2, end='\\n\\n')\n",
        "\n",
        "# Со `np.allclose` проверуваме дали векторите/матриците се приближно еднакви до\n",
        "# одредено ниво на толеранција.\n",
        "# False ни означува дека `A1 A2 x != A2 A1 x` за дадените матрици.\n",
        "print(np.allclose(A1 @ A2 @ x, A2 @ A1 @ x))"
      ],
      "metadata": {
        "colab": {
          "base_uri": "https://localhost:8080/"
        },
        "id": "1iWZh0FaUl0r",
        "outputId": "ee9fe10e-1302-4c96-b981-ef24b41a374c"
      },
      "execution_count": null,
      "outputs": [
        {
          "output_type": "stream",
          "name": "stdout",
          "text": [
            "[[19 22]\n",
            " [43 50]]\n",
            "\n",
            "[1 1] [1 1]\n",
            "\n",
            "False\n"
          ]
        }
      ]
    },
    {
      "cell_type": "markdown",
      "source": [
        "Ако ефектот на линеарна трансформација $T$ може да се поништи, тогаш линеарната трансформација $T^{-1}$ која го прави тоа поништување има матрица која се нарекува инверзна матрица на $T$.\n",
        "\n",
        "Инверзната матрица (доколку постои) може да ја пресметаме користејќи ја функцијата `inv` од модулот `np.linalg`. Има смисла да се зборува за инверзни матрици само ако **матрицата е квадратна**.\n",
        "\n",
        "Матрицата $A$ која нема инверзна матрица, се нарекува сингуларна. Интуицијата зошто некоја трансформација не би имала инверзна трансформација, е ако станува збор за редукција на димензионалноста. Ако изгубиме димензија при трансформација (како на пример мапирање на права во точка), тогаш не можеме да го генерираме оригиналниот векторски потпростор назад.\n",
        "\n",
        "- Секоја точка од права може да ја мапираме во единствена точка.\n",
        "- Обратното не е можно, точка може да мапираме само во друга точка. Настанува губење на димензија."
      ],
      "metadata": {
        "id": "eqSiRHVVV4Bf"
      }
    },
    {
      "cell_type": "code",
      "source": [
        "# Пресметување инверзна матрица за A\n",
        "A = np.array([[1, 2], [3, 4]])\n",
        "AA = np.linalg.inv(A)\n",
        "print(AA, end='\\n\\n')\n",
        "\n",
        "# Инверзната матрица не може да се пресмета секогаш\n",
        "B = np.array([[1, 2], [-1, -2]])\n",
        "try:\n",
        "    BB = np.linalg.inv(B)\n",
        "    print(BB)\n",
        "except Exception as e:\n",
        "    print(e)"
      ],
      "metadata": {
        "colab": {
          "base_uri": "https://localhost:8080/"
        },
        "id": "CoPfYK-4WmWh",
        "outputId": "33ead8ed-1ade-4e1e-acda-1eec1d6f7a55"
      },
      "execution_count": null,
      "outputs": [
        {
          "output_type": "stream",
          "name": "stdout",
          "text": [
            "[[-2.   1. ]\n",
            " [ 1.5 -0.5]]\n",
            "\n",
            "Singular matrix\n"
          ]
        }
      ]
    },
    {
      "cell_type": "markdown",
      "source": [
        "### Графичко претставување на вектори\n",
        "\n",
        "Ќе ги користиме корисничко-дефинираните функции `draw_2d_vectors` и `draw_3d_vectors`.\n",
        "\n",
        "(Види само како се повикуваат функциите, имплементацијата на функцијата не е важна)"
      ],
      "metadata": {
        "id": "Hf3dkRzsZXpL"
      }
    },
    {
      "cell_type": "code",
      "source": [
        "import matplotlib.pyplot as plt\n",
        "\n",
        "def draw_2d_vectors(before_vectors: np.ndarray, after_vectors: np.ndarray = None):\n",
        "    \"\"\"\n",
        "    Функција за цртање на вектори во рамнина.\n",
        "    `before_vectors`: Низа од вектори. Векторите кои треба да се исцртат пред трансформација.\n",
        "    `after_vectors`: (Опционално) Низа од вектори. Векторите кои треба да се исцртат по трансформација.\n",
        "    \"\"\"\n",
        "    origin_1 = np.zeros((2, before_vectors.shape[0]))\n",
        "\n",
        "    # Следната линија ги црта оригиналните вектори\n",
        "    plt.quiver(\n",
        "        *origin_1,\n",
        "        before_vectors[:, 0], before_vectors[:, 1],\n",
        "        color=['b'], angles='xy', scale_units='xy', scale=1\n",
        "    )\n",
        "\n",
        "    if after_vectors is not None:\n",
        "        origin_2 = np.zeros((2, after_vectors.shape[0]))\n",
        "\n",
        "        # Следната линија ги црта трансформираните вектори\n",
        "        plt.quiver(\n",
        "            *origin_2,\n",
        "            after_vectors[:, 0], after_vectors[:, 1],\n",
        "            color=['r'], angles='xy', scale_units='xy', scale=1\n",
        "        )\n",
        "\n",
        "    plt.xlim((-5, 5))\n",
        "    plt.ylim((-5, 5))\n",
        "    plt.grid()\n",
        "    plt.show()"
      ],
      "metadata": {
        "id": "xIaIdYgwgpZm"
      },
      "execution_count": null,
      "outputs": []
    },
    {
      "cell_type": "code",
      "source": [
        "vectors_1 = np.array([[1, 2], [1, 4]])  # Секој ред претставува вектор\n",
        "vectors_2 = np.array([[1, 3]])\n",
        "\n",
        "draw_2d_vectors(vectors_1)"
      ],
      "metadata": {
        "colab": {
          "base_uri": "https://localhost:8080/",
          "height": 450
        },
        "id": "aCKx_5UhaL_3",
        "outputId": "cd7de2da-055d-4251-9702-63529fa90f52"
      },
      "execution_count": null,
      "outputs": [
        {
          "output_type": "display_data",
          "data": {
            "text/plain": [
              "<Figure size 640x480 with 1 Axes>"
            ],
            "image/png": "[encoded data removed]"
          },
          "metadata": {}
        }
      ]
    },
    {
      "cell_type": "code",
      "source": [
        "draw_2d_vectors(vectors_1, vectors_2)"
      ],
      "metadata": {
        "colab": {
          "base_uri": "https://localhost:8080/",
          "height": 450
        },
        "id": "GJnu3yp2bO2q",
        "outputId": "de521fd5-a7a6-484c-edd9-71c9994a0062"
      },
      "execution_count": null,
      "outputs": [
        {
          "output_type": "display_data",
          "data": {
            "text/plain": [
              "<Figure size 640x480 with 1 Axes>"
            ],
            "image/png": "[encoded data removed]"
          },
          "metadata": {}
        }
      ]
    },
    {
      "cell_type": "code",
      "source": [
        "from mpl_toolkits.mplot3d import Axes3D\n",
        "\n",
        "\n",
        "def draw_3d_vectors(before_vectors: np.ndarray, after_vectors: np.ndarray = None):\n",
        "    \"\"\"\n",
        "    Функција за цртање на вектори во 3D простор.\n",
        "    `before_vectors`: Низа од вектори. Векторите кои треба да се исцртат пред трансформација.\n",
        "    `after_vectors`: (Опционално) Низа од вектори. Векторите кои треба да се исцртат по трансформација.\n",
        "    \"\"\"\n",
        "    fig = plt.figure()\n",
        "    ax = fig.add_subplot(111, projection='3d')\n",
        "\n",
        "    origin_1 = np.zeros((before_vectors.shape[0], 3))\n",
        "\n",
        "    ax.quiver(\n",
        "        origin_1[:, 0], origin_1[:, 1], origin_1[:, 2],\n",
        "        before_vectors[:, 0], before_vectors[:, 1], before_vectors[:, 2],\n",
        "        color=['b'], arrow_length_ratio=.1\n",
        "    )\n",
        "\n",
        "    if after_vectors is not None:\n",
        "        origin_2 = np.zeros((after_vectors.shape[0], 3))\n",
        "\n",
        "        ax.quiver(\n",
        "            origin_2[:, 0], origin_2[:, 1], origin_2[:, 2],\n",
        "            after_vectors[:, 0], after_vectors[:, 1], after_vectors[:, 2],\n",
        "            color=['r'], arrow_length_ratio=.1\n",
        "        )\n",
        "\n",
        "    ax.set_xlim([0, 5])\n",
        "    ax.set_ylim([0, 5])\n",
        "    ax.set_zlim([0, 5])\n",
        "    ax.set_xlabel('X')\n",
        "    ax.set_ylabel('Y')\n",
        "    ax.set_zlabel('Z')\n",
        "\n",
        "    ax.view_init(elev=10)\n",
        "\n",
        "    plt.show()\n"
      ],
      "metadata": {
        "id": "dqrcDMqUzcHK"
      },
      "execution_count": null,
      "outputs": []
    },
    {
      "cell_type": "code",
      "source": [
        "vectors_1 = np.array([[1, 2, 0], [1, 4, 0]])\n",
        "vectors_2 = np.array([[1, 3, 1]])\n",
        "\n",
        "draw_3d_vectors(vectors_1)"
      ],
      "metadata": {
        "colab": {
          "base_uri": "https://localhost:8080/",
          "height": 426
        },
        "id": "THXXBlRlzbzW",
        "outputId": "97dc1271-2575-4910-c476-15f526283fa9"
      },
      "execution_count": null,
      "outputs": [
        {
          "output_type": "display_data",
          "data": {
            "text/plain": [
              "<Figure size 640x480 with 1 Axes>"
            ],
            "image/png": "[encoded data removed]"
          },
          "metadata": {}
        }
      ]
    },
    {
      "cell_type": "code",
      "source": [
        "draw_3d_vectors(vectors_1, vectors_2)"
      ],
      "metadata": {
        "colab": {
          "base_uri": "https://localhost:8080/",
          "height": 426
        },
        "id": "ZDpOTWKkcv3-",
        "outputId": "b755da6f-5cae-4896-b939-eddef8927c5b"
      },
      "execution_count": null,
      "outputs": [
        {
          "output_type": "display_data",
          "data": {
            "text/plain": [
              "<Figure size 640x480 with 1 Axes>"
            ],
            "image/png": "[encoded data removed]"
          },
          "metadata": {}
        }
      ]
    },
    {
      "cell_type": "markdown",
      "source": [
        "## Основен дел"
      ],
      "metadata": {
        "id": "OeTGMweBghLN"
      }
    },
    {
      "cell_type": "markdown",
      "source": [
        "Да се прикаже и интерпретира трансформацијата $A = \\begin{bmatrix}m & 0 \\\\ 0 & n\\end{bmatrix}$ на неколку 2D вектори за\n",
        "\n",
        "а) $m = n$;  \n",
        "b) $m \\neq n$.\n",
        "\n",
        "Да се прикажат векторите пред и после трансформацијата."
      ],
      "metadata": {
        "id": "_F47PzEqr3sc"
      }
    },
    {
      "cell_type": "code",
      "source": [],
      "metadata": {
        "id": "JG5igw51gp1m"
      },
      "execution_count": null,
      "outputs": []
    },
    {
      "cell_type": "markdown",
      "source": [
        "Да се прикаже и интерпретира трансформацијата $A = \\begin{bmatrix}\\cos (\\theta) & \\sin (\\theta) \\\\ -\\sin (\\theta) & \\cos (\\theta) \\end{bmatrix}$ на неколку 2D вектори за различни вредности на $\\theta$.\n",
        "\n",
        "Да се прикажат векторите пред и после трансформацијата."
      ],
      "metadata": {
        "id": "9VT9zMJYsqiv"
      }
    },
    {
      "cell_type": "code",
      "source": [],
      "metadata": {
        "id": "Z-jsqJM0r0__"
      },
      "execution_count": null,
      "outputs": []
    },
    {
      "cell_type": "markdown",
      "source": [
        "Да се прикаже и интерпретира трансформацијата $A = \\begin{bmatrix}\\frac{1-m^2}{1+m^2} & \\frac{2m}{1+m^2} \\\\ \\frac{2m}{1+m^2} & \\frac{m^2 - 1}{1+m^2}\\end{bmatrix}$ на неколку 2D вектори за различни вредности на $m$\n",
        "\n",
        "Да се прикажат векторите пред и после трансформацијата.\n",
        "\n",
        "(Забелешка: Скицирај и неколку вектори кои лежат на правата $y = mx$, т.е. имаат координати $v(t) = \\begin{bmatrix}t \\\\ mt \\end{bmatrix}$. Неколку такви вектори $\\begin{bmatrix}1 \\\\ m \\end{bmatrix}$, $\\begin{bmatrix}-2 \\\\ -2m \\end{bmatrix}$, $\\ldots$)"
      ],
      "metadata": {
        "id": "tqm0g2v0tU2g"
      }
    },
    {
      "cell_type": "code",
      "source": [],
      "metadata": {
        "id": "qjLtuISEr07c"
      },
      "execution_count": null,
      "outputs": []
    },
    {
      "cell_type": "markdown",
      "source": [
        "За секоја од претходните трансформации да се разгледа однесувањето на матриците $A^2$.\n",
        "\n",
        "Да се прикажат векторите пред и после трансформацијата."
      ],
      "metadata": {
        "id": "IDAu_Bh0wW8A"
      }
    },
    {
      "cell_type": "code",
      "source": [],
      "metadata": {
        "id": "f9M8uRP_r03w"
      },
      "execution_count": null,
      "outputs": []
    },
    {
      "cell_type": "markdown",
      "source": [
        "Ротација, рефлексија и скалирање се главни линеарни трансформации кои ги користиме над векторите.\n",
        "\n",
        "Ефектите на овие трансформации може да ги поништиме со соодветна линеарна трансформација. Матрицата на оваа *поништувачка* трансформација е **инверзната матрица** на оригиналната трансформација.\n",
        "\n",
        "Пример:\n",
        "- Скалирање на фигура за фактор од $2$ може да се поништи со скалирање на истата фигура за фактор од $0.5$.\n",
        "- Ротација на фигура за $60^\\circ$ може да се поништи со ротација на фигурата со $-60^\\circ$ односно $300^\\circ$.\n",
        "\n",
        "Како се поништува рефлексија над $y$-оската? Дефинирај ја матрицата и пресметај ја соодветната инверзна матрица.\n",
        "\n",
        "Дали е потребно да пресметуваме инверзна матрица кај рефлексиите?"
      ],
      "metadata": {
        "id": "NN0xcSbzzKqa"
      }
    },
    {
      "cell_type": "code",
      "source": [],
      "metadata": {
        "id": "_D80igkqr0uX"
      },
      "execution_count": null,
      "outputs": []
    },
    {
      "cell_type": "markdown",
      "source": [
        "Дадени се векторите $v_1 = \\begin{bmatrix}0 \\\\ 1\\end{bmatrix}$ и $v_2 = \\begin{bmatrix}1 \\\\ 4\\end{bmatrix}$, како и линеарна трансформација дефинирана со матрицата $A = \\begin{bmatrix}-3 & 1 \\\\ 15 & -5\\end{bmatrix}$.\n",
        "\n",
        "Да се прикажат векторите пред и после трансформација.\n",
        "\n",
        "Да се пресмета инверзната матрица. Што забележуваш?"
      ],
      "metadata": {
        "id": "s_M9rSpQ6Iqd"
      }
    },
    {
      "cell_type": "code",
      "source": [],
      "metadata": {
        "id": "jENjdz7Gr0qk"
      },
      "execution_count": null,
      "outputs": []
    },
    {
      "cell_type": "markdown",
      "source": [
        "(Опционална задача)\n",
        "\n",
        "Дали ефектот на транслација т.е. поместување на фигура низ 2D простор може да го постигнеме со конечна примена на трансформации споменати во погорните делови од оваа тетратка?\n",
        "\n",
        "Ако да, демонстрирај процедура за транслација на фигура преку линеарни трансформации со произволно избрани вектори и матрици. Ако не, покажи дека постои вектор кој со конечна примена на линеарните трансформации не може да се транслира т.е. помести во 2D рамнината."
      ],
      "metadata": {
        "id": "TtNQydziwl-5"
      }
    },
    {
      "cell_type": "code",
      "source": [],
      "metadata": {
        "id": "Ys1wgyUhDImv"
      },
      "execution_count": null,
      "outputs": []
    },
    {
      "cell_type": "markdown",
      "source": [
        "## Практичен дел"
      ],
      "metadata": {
        "id": "VAJNnnTpghDD"
      }
    },
    {
      "cell_type": "markdown",
      "source": [
        "За овој дел ќе ви биде потребно да користите произволно избрана слика.\n",
        "\n",
        "### Хомогени координати\n",
        "\n",
        "Во претходните задачи зборувавме за дефинирањето на транслација на векторите во $\\mathbb{R}^2$ како линеарна трансформација. (Дали беше можно?)\n",
        "\n",
        "Елегантен начин за решавање на овој проблем е да ги прошириме векторите на следниот начин\n",
        "$$\\begin{bmatrix}x \\\\ y\\end{bmatrix} \\mapsto \\begin{bmatrix}x \\\\ y\\\\ 1\\end{bmatrix}.$$\n",
        "\n",
        "Сега, транслација на сите точки од рамнината за вектор $b = \\begin{bmatrix}h \\\\ k\\end{bmatrix}$ се сведува на следното матрично множење\n",
        "$$\\begin{bmatrix}1 & 0 & h \\\\ 0 & 1 & k \\\\ 0 & 0 & 1\\end{bmatrix} \\begin{bmatrix}x \\\\ y \\\\ 1\\end{bmatrix} = \\begin{bmatrix}x + h \\\\ y + k \\\\ 1\\end{bmatrix}.$$\n",
        "\n",
        "Значи, **матрицата на транслација** за вектор $b = \\begin{bmatrix}h \\\\ k\\end{bmatrix}$ е зададена како $\\begin{bmatrix}1 & 0 & h \\\\ 0 & 1 & k \\\\ 0 & 0 & 1\\end{bmatrix}$.\n",
        "\n",
        "**Останатите линеарни трансформации** во 2D зададени со некоја матрица $A = \\begin{bmatrix}a_1 & a_2 \\\\ a_3 & a_4\\end{bmatrix}$, ги имаат следните соодветни матрични репрезентации кај векторите со хомогени координати\n",
        "$$\\begin{bmatrix}a_1 & a_2 & 0 \\\\ a_3 & a_4 & 0 \\\\ 0 & 0 & 1\\end{bmatrix}$$"
      ],
      "metadata": {
        "id": "Flpa3HFW6zKA"
      }
    },
    {
      "cell_type": "markdown",
      "source": [
        "<hr>\n",
        "\n",
        "За вашата слика, користејќи го кодот подолу да се трансформира истата.\n",
        "Трансформацијата треба да содржи транслација и барем две од следните: ротација, скалирање, рефлексија.\n",
        "\n",
        "Составете ги матриците на линеарни трансформации."
      ],
      "metadata": {
        "id": "BY9talUkFpWh"
      }
    },
    {
      "cell_type": "code",
      "source": [
        "# Состави ги матриците, а потоа изврши ја ќелијата подолу и повикај ја функцијата `transform_image`\n",
        "# На Colab: додади слика во истата сесија во `Files` делот"
      ],
      "metadata": {
        "id": "_USdzUJBHu9N"
      },
      "execution_count": null,
      "outputs": []
    },
    {
      "cell_type": "code",
      "execution_count": null,
      "metadata": {
        "id": "_977powyfvox"
      },
      "outputs": [],
      "source": [
        "import numpy as np\n",
        "import matplotlib.pyplot as plt\n",
        "from mpl_toolkits.mplot3d import Axes3D\n",
        "from matplotlib import image as mpimg\n",
        "\n",
        "\n",
        "def transform_image(img_path: str, transform_matrix: np.ndarray):\n",
        "    \"\"\"\n",
        "    Функција која ја прикажува трансформираната верзија на слика.\n",
        "    `img_path`: патеката до сликата\n",
        "    `transform_matrix`: матрицата на трансформација\n",
        "    \"\"\"\n",
        "    img = mpimg.imread(img_path)\n",
        "    height, width, _ = img.shape\n",
        "\n",
        "    if img.max() > 1:\n",
        "        img = img / img.max()\n",
        "\n",
        "    x = np.linspace(0, 1, width)\n",
        "    y = np.linspace(0, 1, height)\n",
        "    X, Y = np.meshgrid(x, y)\n",
        "\n",
        "    fig = plt.figure()\n",
        "    ax = fig.add_subplot(111, projection='3d')\n",
        "\n",
        "    Z = np.zeros_like(X)\n",
        "    # Следната линија ја црта оригиналната слика, пред трансформирање\n",
        "    # ax.plot_surface(X, Y, Z, rstride=5, cstride=5, facecolors=img, shade=False)\n",
        "\n",
        "    points = np.vstack([X.flatten(), Y.flatten(), Z.flatten()])\n",
        "    transformed_points = transform_matrix @ points\n",
        "\n",
        "    X_rot = transformed_points[0, :].reshape(X.shape)\n",
        "    Y_rot = transformed_points[1, :].reshape(Y.shape)\n",
        "    Z_rot = transformed_points[2, :].reshape(Z.shape)\n",
        "\n",
        "    # Следната линија ја црта трансформираната слика\n",
        "    ax.plot_surface(X_rot, Y_rot, Z_rot, rstride=5, cstride=5, facecolors=img, shade=False)\n",
        "\n",
        "    ax.set_xlabel('X')\n",
        "    ax.set_ylabel('Y')\n",
        "    ax.set_zlabel('Z')\n",
        "\n",
        "    plt.show()"
      ]
    },
    {
      "cell_type": "code",
      "source": [
        "img_path = ...\n",
        "transform_matrix = ...\n",
        "\n",
        "transform_image(img_path, transform_matrix)"
      ],
      "metadata": {
        "id": "GH5m90mTr0Xt"
      },
      "execution_count": null,
      "outputs": []
    },
    {
      "cell_type": "markdown",
      "source": [
        "### Перспективна проекција\n",
        "\n",
        "Нека од точката $(0, 0, d)$ набљудуваме објект во 3D зададен со множество точки $\\{d_1, d_2, \\ldots, d_n\\}$ каде $d_i = \\begin{bmatrix}x \\\\ y \\\\ z\\end{bmatrix}$ за $i \\leqslant n$.\n",
        "\n",
        "Овој објект може да го ембедираме/проектираме во $XY$ рамнината, пример доколку сакаме да го прикажеме истиот на компјутерски екран.\n",
        "\n",
        "Користејќи хомогени координати за 3D точки, процесот на наоѓање на трансформираните точки е следен:\n",
        "\n",
        "$$P \\begin{bmatrix}x \\\\ y\\\\ z\\\\ 1\\end{bmatrix} = \\begin{bmatrix}1 & 0 & 0 & 0 \\\\ 0 & 1 & 0 & 0 \\\\ 0 & 0 & 0 & 0 \\\\ 0 & 0 & -\\frac{1}{d} & 1\\end{bmatrix}\\begin{bmatrix}x \\\\ y\\\\ z\\\\ 1\\end{bmatrix} = \\begin{bmatrix}x \\\\ y\\\\ 0\\\\ 1 - \\frac{z}{d}\\end{bmatrix}$$\n",
        "каде $P$ е матрица на проекцијата.\n",
        "\n",
        "Бидејќи хомогените координати ги дефиниравме со константен член 1 во последната димензија, треба да направиме прескалирање делејќи со последната координата, па хомогените точки од векторите во $\\mathbb{R}^3$ ќе бидат\n",
        "$$\\begin{bmatrix}x \\\\ y\\\\ 0\\\\ 1 - \\frac{z}{d}\\end{bmatrix} \\mapsto \\begin{bmatrix} \\cfrac{x}{1 - \\frac{z}{d}} \\\\ \\cfrac{y}{1 - \\frac{z}{d}} \\\\ 0\\\\ 1\\end{bmatrix}.$$"
      ],
      "metadata": {
        "id": "7T08ewisM8a6"
      }
    },
    {
      "cell_type": "markdown",
      "source": [
        "<hr>\n",
        "\n",
        "Нека $T$ е триаголник со темиња $\\begin{bmatrix}9 \\\\ 3\\\\ -5\\end{bmatrix}$, $\\begin{bmatrix}12 \\\\ 8\\\\ 2\\end{bmatrix}$ и $\\begin{bmatrix}1.8\\\\ 2.7\\\\ 1\\end{bmatrix}$.\n",
        "\n",
        "Најди ја сликата на $T$ по перспективна проекција со центар во точката $\\begin{bmatrix}0 \\\\ 0\\\\ 10\\end{bmatrix}$.\n",
        "\n",
        "Да се прикаже $T$ пред и после трансформацијата."
      ],
      "metadata": {
        "id": "2h6Lzk32PmKd"
      }
    },
    {
      "cell_type": "code",
      "source": [],
      "metadata": {
        "id": "uvJzeOZzr0VQ"
      },
      "execution_count": null,
      "outputs": []
    }
  ]
}