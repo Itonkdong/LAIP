{
 "cells": [
  {
   "cell_type": "markdown",
   "metadata": {
    "id": "_w8nWjU8Gdxo"
   },
   "source": [
    "# Лабораториска вежба бр. 5"
   ]
  },
  {
   "cell_type": "markdown",
   "metadata": {
    "id": "ibrVhe8sGdpQ"
   },
   "source": [
    "## Вовед"
   ]
  },
  {
   "cell_type": "markdown",
   "metadata": {
    "id": "Dm44dZ8qGlsQ"
   },
   "source": [
    "**Сопствени вектори** и **сопствени вредности** (анг. *eigenvectors*, *eigenvalues*) се термини кои опишуваат одредени својства кај квадратните матрици.\n",
    "\n",
    "Нека $A$ е квадратна матрица и нека важи равенството\n",
    "$$A \\mathbf{v} = \\lambda \\mathbf{v}$$\n",
    "за некој вектор $\\mathbf{v}$ и некој скалар $\\lambda$.  \n",
    "Векторот $\\mathbf{v}$ се нарекува сопствен вектор на матрицата $A$, и тој соодветствува на сопствената вредност $\\lambda$.\n",
    "\n",
    "За пресметка на сопствените вектори и сопствените вредности во `numpy` ќе ја користиме функцијата `numpy.linalg.eig`."
   ]
  },
  {
   "cell_type": "code",
   "execution_count": 1,
   "metadata": {
    "ExecuteTime": {
     "end_time": "2024-11-28T11:30:07.926786Z",
     "start_time": "2024-11-28T11:30:07.902706Z"
    },
    "colab": {
     "base_uri": "https://localhost:8080/"
    },
    "id": "dwg6ymvwGeba",
    "outputId": "92788163-e343-4b50-fab7-221db49432c5"
   },
   "outputs": [
    {
     "name": "stdout",
     "output_type": "stream",
     "text": [
      "[0.46887113 8.53112887]\n",
      "\n",
      "[[-0.96649965 -0.25666794]\n",
      " [ 0.25666794 -0.96649965]]\n",
      "\n",
      "Сопствената вредност:  8.531128874149275\n",
      " одговара на сопствениот вектор:  [-0.25666794 -0.96649965]\n"
     ]
    }
   ],
   "source": [
    "import numpy as np\n",
    "\n",
    "A = np.array([[1, 2], [2, 8]])\n",
    "\n",
    "eigenvalues, eigenvectors = np.linalg.eig(A)\n",
    "\n",
    "print(eigenvalues, end='\\n\\n')\n",
    "print(eigenvectors, end='\\n\\n')\n",
    "\n",
    "# Внимавај на индексирањето\n",
    "print('Сопствената вредност: ', eigenvalues[1])\n",
    "print(' одговара на сопствениот вектор: ', eigenvectors[:, 1])"
   ]
  },
  {
   "cell_type": "markdown",
   "metadata": {},
   "source": []
  },
  {
   "cell_type": "markdown",
   "metadata": {
    "id": "8SjH6C5UOIa3"
   },
   "source": [
    "Сопствените вектори пред и по трансформација го имаат истиот правец, па така матрицата $A$ во равенката\n",
    "$$A \\mathbf{v} = \\lambda \\mathbf{v}$$\n",
    "ја интерпретираме како скалирачка функција за сопствените вектори."
   ]
  },
  {
   "cell_type": "markdown",
   "metadata": {},
   "source": []
  },
  {
   "cell_type": "markdown",
   "metadata": {
    "id": "fKKBEftCQGjY"
   },
   "source": [
    "![b-eigenvector.svg](data:image/svg+xml;base64,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)"
   ]
  },
  {
   "cell_type": "markdown",
   "metadata": {
    "id": "QZCxv8E-QLBt"
   },
   "source": [
    "На примерот на сликата гледаме како само векторите кои лежат на оската на ротација (сино) нема да се ротираат, туку само ќе се скалираат ($\\lambda = 1$)."
   ]
  },
  {
   "cell_type": "markdown",
   "metadata": {
    "id": "RqZGr6kQUgrV"
   },
   "source": [
    "Сопствените вредности може да бидат и комплексни броеви. Во поголемиот дел од вежбите ќе работиме само со реални сопствени вредности. Поради можни грешки во пресметковната прецизност од страна на `numpy`, некогаш ќе биде потребно да ги кастираме вредностите во реални броеви."
   ]
  },
  {
   "cell_type": "code",
   "execution_count": 3,
   "metadata": {
    "id": "fDrEo3iCVCoT"
   },
   "outputs": [],
   "source": [
    "eigenvalues = np.real(eigenvalues)\n",
    "eigenvectors = np.real(eigenvectors)"
   ]
  },
  {
   "cell_type": "markdown",
   "metadata": {
    "id": "2uDjyUhOQfyl"
   },
   "source": [
    "**Дијагонализација** на квадратната матрица $A$ е претворање на истата (ако е можно) во форма $PDP^{-1}$ каде $P$ ги содржи сопствените вектори, а $D$ е дијагонална матрица од сопствените вредности."
   ]
  },
  {
   "cell_type": "code",
   "execution_count": 8,
   "metadata": {
    "ExecuteTime": {
     "end_time": "2024-11-26T11:08:11.320824Z",
     "start_time": "2024-11-26T11:08:11.315730Z"
    },
    "colab": {
     "base_uri": "https://localhost:8080/"
    },
    "id": "bwX6kTA5OHOO",
    "outputId": "1690d7bf-aec5-4c9a-b669-24215afd84d0"
   },
   "outputs": [
    {
     "name": "stdout",
     "output_type": "stream",
     "text": [
      "[[0.51576346 0.31560318 0.77950172 0.64033738]\n",
      " [0.31560318 0.86487849 0.74234423 0.38692215]\n",
      " [0.77950172 0.74234423 0.13116846 0.4866655 ]\n",
      " [0.64033738 0.38692215 0.4866655  0.29946972]]\n",
      "\n",
      "[[0.51576346 0.31560318 0.77950172 0.64033738]\n",
      " [0.31560318 0.86487849 0.74234423 0.38692215]\n",
      " [0.77950172 0.74234423 0.13116846 0.4866655 ]\n",
      " [0.64033738 0.38692215 0.4866655  0.29946972]]\n"
     ]
    }
   ],
   "source": [
    "A = np.random.random((4, 4))\n",
    "A = (A + A.T) / 2  # Симетрични матрици секогаш може да се дијагонализираат\n",
    "\n",
    "eigenvalues, eigenvectors = np.linalg.eig(A)\n",
    "\n",
    "P = eigenvectors\n",
    "D = np.diag(eigenvalues)\n",
    "\n",
    "P_inv = np.linalg.inv(P)\n",
    "B = P @ D @ P_inv\n",
    "\n",
    "# Двете матрици треба да се идентични\n",
    "print(A, end='\\n\\n')\n",
    "print(B)\n"
   ]
  },
  {
   "cell_type": "markdown",
   "metadata": {
    "id": "7LVwlsn2GdfT"
   },
   "source": [
    "## Основен дел"
   ]
  },
  {
   "cell_type": "markdown",
   "metadata": {
    "id": "hQObW6vVgqTo"
   },
   "source": [
    "Да се пресметаат сопствените вектори и сопствените вредности на матрицата\n",
    "$$A = \\begin{bmatrix}1 & 3 \\\\ 2 & 0\\end{bmatrix}.$$"
   ]
  },
  {
   "cell_type": "code",
   "metadata": {
    "id": "3t20KzyMGeut",
    "ExecuteTime": {
     "end_time": "2024-11-28T11:41:08.810608Z",
     "start_time": "2024-11-28T11:41:08.805048Z"
    }
   },
   "source": [
    "A = np.array([[1, 3], [2, 0]])\n",
    "\n",
    "eigenvalues, eigenvectors = np.linalg.eig(A)\n",
    "\n",
    "print(eigenvalues, end='\\n\\n')\n",
    "print(eigenvectors, end='\\n\\n')"
   ],
   "outputs": [
    {
     "name": "stdout",
     "output_type": "stream",
     "text": [
      "[ 3. -2.]\n",
      "\n",
      "[[ 0.83205029 -0.70710678]\n",
      " [ 0.5547002   0.70710678]]\n",
      "\n"
     ]
    }
   ],
   "execution_count": 2
  },
  {
   "cell_type": "markdown",
   "metadata": {
    "id": "66G8h_qjgqyV"
   },
   "source": [
    "Да се пресметаат сопствените вектори и сопствените вредности за матрицата\n",
    "$$A = \\begin{bmatrix}-2 & 0 & 0 \\\\ 0 & -3 & 0 \\\\ 0 & 0 & 2\\end{bmatrix}.$$\n",
    "\n",
    "Што забележуваш за сопствените вредности?"
   ]
  },
  {
   "cell_type": "code",
   "metadata": {
    "id": "U7rsg4RagrK4",
    "ExecuteTime": {
     "end_time": "2024-11-28T11:45:09.917140Z",
     "start_time": "2024-11-28T11:45:09.912165Z"
    }
   },
   "source": [
    "A = np.array([[-2, 0, 0], [0, -3, 0], [0, 0, 2]])\n",
    "eigenValues, eigenVectors, = np.linalg.eig(A)\n",
    "print(eigenValues)\n",
    "print(eigenVectors)"
   ],
   "outputs": [
    {
     "name": "stdout",
     "output_type": "stream",
     "text": [
      "[-2. -3.  2.]\n",
      "[[1. 0. 0.]\n",
      " [0. 1. 0.]\n",
      " [0. 0. 1.]]\n"
     ]
    }
   ],
   "execution_count": 9
  },
  {
   "metadata": {},
   "cell_type": "markdown",
   "source": "EigenValues are the same with the non 0 entries in each row in the matrix A"
  },
  {
   "cell_type": "markdown",
   "metadata": {
    "id": "g88_v4zqhrUS"
   },
   "source": [
    "Дадена е сингуларната матрица $$A = \\begin{bmatrix}1 & 2 \\\\ 3 & 6\\end{bmatrix},$$\n",
    "т.е. $det(A) = 0$.\n",
    "\n",
    "Да се пресметаат сопствените вредности и да се утврди дека 0 е една од сопствените вредности.\n",
    "\n"
   ]
  },
  {
   "cell_type": "code",
   "metadata": {
    "id": "RrdK4KF_hrxy",
    "ExecuteTime": {
     "end_time": "2024-11-28T11:46:06.716989Z",
     "start_time": "2024-11-28T11:46:06.711391Z"
    }
   },
   "source": [
    "A = np.array([[1, 2], [3, 6]])\n",
    "eigenValues, eigenVectors, = np.linalg.eig(A)\n",
    "print(eigenValues)\n",
    "print(eigenVectors)\n",
    "for value in eigenValues:\n",
    "    if value == 0:\n",
    "        print(\"There is an eigenvalue == 0\")"
   ],
   "outputs": [
    {
     "name": "stdout",
     "output_type": "stream",
     "text": [
      "[0. 7.]\n",
      "[[-0.89442719 -0.31622777]\n",
      " [ 0.4472136  -0.9486833 ]]\n",
      "There is an eigenvalue == 0\n"
     ]
    }
   ],
   "execution_count": 11
  },
  {
   "cell_type": "markdown",
   "metadata": {
    "id": "xNQpFeXsjBOj"
   },
   "source": [
    "Дадена е сингуларната матрица $$A = \\begin{bmatrix}2 & 2 & -2 \\\\ 5 & 1 & -3 \\\\ 1 & 5 & -3\\end{bmatrix}.$$\n",
    "\n",
    "а) Утврди дека сите сопствени вредности на матрицата се 0.\n",
    "\n",
    "б) Ваквиот тип на матрици $N$ со сопствени вредности нула (анг. *Nilpotent*) го имаат следното својство: $$N^k = \\mathbf{0}$$ за некој позитивен цел број $k$. Најди го најмалиот таков број за матрицата $A$."
   ]
  },
  {
   "cell_type": "code",
   "metadata": {
    "id": "BUrXTWjVjAkV",
    "ExecuteTime": {
     "end_time": "2024-11-28T11:57:52.919405Z",
     "start_time": "2024-11-28T11:57:52.912531Z"
    }
   },
   "source": [
    "A = np.array([[2, 2, -2], [5, 1, -3], [1, 5, -3]])\n",
    "eigenValues, eigenVectors, = np.linalg.eig(A)\n",
    "roundedEigenValues = (np.round(np.real(eigenValues)))\n",
    "# print(roundedEigenValues)\n",
    "if len(list(filter(lambda x: x == 0, roundedEigenValues))) == len(roundedEigenValues):\n",
    "    print(\"All the eigenValues are 0\")\n",
    "    print(\"Proof,\", roundedEigenValues)"
   ],
   "outputs": [
    {
     "name": "stdout",
     "output_type": "stream",
     "text": [
      "All the eigenValues are 0\n",
      "Proof, [-0.  0.  0.]\n"
     ]
    }
   ],
   "execution_count": 21
  },
  {
   "cell_type": "code",
   "metadata": {
    "ExecuteTime": {
     "end_time": "2024-11-28T11:59:17.300285Z",
     "start_time": "2024-11-28T11:59:17.295608Z"
    }
   },
   "source": [
    "k = 1\n",
    "zeroMatrix  =np.zeros((3, 3))\n",
    "while True:\n",
    "    matrixProduct = A\n",
    "    for i in range(2,k+1):\n",
    "        matrixProduct = matrixProduct @ A\n",
    "    if np.array_equal(matrixProduct, zeroMatrix):\n",
    "        break\n",
    "    k += 1\n",
    "    \n",
    "print(\"For k =\",k,f\", A^{k} = 0\")"
   ],
   "outputs": [
    {
     "name": "stdout",
     "output_type": "stream",
     "text": [
      "For k = 3 , A^3 = 0\n"
     ]
    }
   ],
   "execution_count": 30
  },
  {
   "cell_type": "markdown",
   "metadata": {
    "id": "jyA4t6g5kP-e"
   },
   "source": [
    "За произволна матрица $A$, провери дека скалиран сопствен вектор за сопствената вредност $\\lambda$ е исто така сопствен вектор.\n",
    "\n",
    "Односно покажи дека ако важи\n",
    "$$A\\mathbf{v} = \\lambda \\mathbf{v},$$\n",
    "тогаш исто важи и\n",
    "$$A(k\\mathbf{v}) = \\lambda k \\mathbf{v}$$\n",
    "за произволен скалар $k$."
   ]
  },
  {
   "cell_type": "code",
   "metadata": {
    "id": "qJuvo53-kPvX",
    "ExecuteTime": {
     "end_time": "2024-11-28T12:08:06.222095Z",
     "start_time": "2024-11-28T12:08:06.215136Z"
    }
   },
   "source": [
    "A = np.array([[-2, 0, 0], [0, -3, 0], [0, 0, 2]])\n",
    "eigenValues, eigenVectors, = np.linalg.eig(A)\n",
    "# print(eigenValues)\n",
    "# print(eigenVectors)\n",
    "\n",
    "eigen_vector= eigenVectors[0]\n",
    "print(\"For A =\\n\", A,\"\\nand eigenvector v = \",eigen_vector)\n",
    "print(\"Av = \", A @ eigen_vector,\",where lamda=\", eigenValues[0])\n",
    "k1 = 3\n",
    "scaled_eigen_vector = k1 * eigen_vector\n",
    "print(\"If we scale v with k = 3 -> v =\", scaled_eigen_vector)\n",
    "print(\"Then, A(kv) = \", A @ (k * eigen_vector), \"which is the same with lamda*kv=\", eigenValues[0] * k * eigen_vector)"
   ],
   "outputs": [
    {
     "name": "stdout",
     "output_type": "stream",
     "text": [
      "For A =\n",
      " [[-2  0  0]\n",
      " [ 0 -3  0]\n",
      " [ 0  0  2]] \n",
      "and eigenvector v =  [1. 0. 0.]\n",
      "Av =  [-2.  0.  0.] ,where lamda= -2.0\n",
      "If we scale v with k = 3 -> v = [3. 0. 0.]\n",
      "Then, A(kv) =  [-6.  0.  0.] which is the same with lamda*kv= [-6. -0. -0.]\n"
     ]
    }
   ],
   "execution_count": 46
  },
  {
   "cell_type": "markdown",
   "metadata": {
    "id": "hTlZPkotlLvq"
   },
   "source": [
    "Дефинирајте матрица на ротација $R$ во 2D простор.\n",
    "\n",
    "а) Пред да ги пресметате сопствените вредности и сопствените вектори, размислете како изгледа трансформацијата за аглите $\\alpha = 90^{\\circ}$ и $\\alpha = 180^{\\circ}$.\n",
    "\n",
    "Кои сопствени вредности ги очекуваме да се добијат?\n",
    "\n",
    "б) Пресметај ги сопствените вредности."
   ]
  },
  {
   "cell_type": "code",
   "metadata": {
    "id": "P08lh2aYkPsI",
    "ExecuteTime": {
     "end_time": "2024-11-28T12:12:48.841313Z",
     "start_time": "2024-11-28T12:12:48.837762Z"
    }
   },
   "source": [
    "def get_rotation_matrix(theta):\n",
    "    theta_rad = np.radians(theta)\n",
    "    return np.array([\n",
    "        [np.cos(theta_rad), -np.sin(theta_rad)],\n",
    "        [np.sin(theta_rad), np.cos(theta_rad)]\n",
    "    ])"
   ],
   "outputs": [],
   "execution_count": 51
  },
  {
   "metadata": {
    "ExecuteTime": {
     "end_time": "2024-11-28T12:15:22.378853Z",
     "start_time": "2024-11-28T12:15:22.374090Z"
    }
   },
   "cell_type": "code",
   "source": [
    "rotation_by_90 = np.round(get_rotation_matrix(90))\n",
    "rotation_by_180 = np.round(get_rotation_matrix(180))\n",
    "print(\"Rotation by 90\\n\",rotation_by_90)\n",
    "print(\"Rotation by 180\\n\",rotation_by_180)"
   ],
   "outputs": [
    {
     "name": "stdout",
     "output_type": "stream",
     "text": [
      "Rotation by 90\n",
      " [[ 0. -1.]\n",
      " [ 1.  0.]]\n",
      "Rotation by 180\n",
      " [[-1. -0.]\n",
      " [ 0. -1.]]\n"
     ]
    }
   ],
   "execution_count": 59
  },
  {
   "metadata": {
    "ExecuteTime": {
     "end_time": "2024-11-28T12:18:36.384627Z",
     "start_time": "2024-11-28T12:18:36.380399Z"
    }
   },
   "cell_type": "code",
   "source": [
    "eigValues90, eigVectors90 = np.linalg.eig(rotation_by_90)\n",
    "eigValues180, eigVectors180 = np.linalg.eig(rotation_by_180)"
   ],
   "outputs": [],
   "execution_count": 61
  },
  {
   "metadata": {},
   "cell_type": "markdown",
   "source": "We expect to get the eigenvalues 0,0 for rotation by 90, and eigenvalues -1,-1 for rotation by 180"
  },
  {
   "metadata": {
    "ExecuteTime": {
     "end_time": "2024-11-28T12:19:35.514403Z",
     "start_time": "2024-11-28T12:19:35.510399Z"
    }
   },
   "cell_type": "code",
   "source": "print(\"Eigen values for rotation by 90\",np.real(eigValues90))",
   "outputs": [
    {
     "name": "stdout",
     "output_type": "stream",
     "text": [
      "Eigen values for rotation by 90 [0. 0.]\n"
     ]
    }
   ],
   "execution_count": 66
  },
  {
   "metadata": {
    "ExecuteTime": {
     "end_time": "2024-11-28T12:19:33.855193Z",
     "start_time": "2024-11-28T12:19:33.850614Z"
    }
   },
   "cell_type": "code",
   "source": "print(\"Eigen values for rotation by 90\",np.real(eigValues180))",
   "outputs": [
    {
     "name": "stdout",
     "output_type": "stream",
     "text": [
      "Eigen values for rotation by 90 [-1. -1.]\n"
     ]
    }
   ],
   "execution_count": 65
  },
  {
   "cell_type": "markdown",
   "metadata": {
    "id": "SZdu70cAl6-z"
   },
   "source": [
    "Направи дијагонализација на матрицата\n",
    "$$A = \\begin{bmatrix}5 & 2 \\\\ 2 & 8\\end{bmatrix}.$$\n",
    "\n",
    "Дали е важен редоследот на множењето на матриците, т.е. дали $PDP^{-1}$ е исто со $P^{-1}DP$?"
   ]
  },
  {
   "cell_type": "code",
   "metadata": {
    "id": "cqhAH20ckPaC",
    "ExecuteTime": {
     "end_time": "2024-11-28T12:24:33.818701Z",
     "start_time": "2024-11-28T12:24:33.812994Z"
    }
   },
   "source": [
    "A = np.array([[5,2],[2,8]])\n",
    "eigenvalues, eigenvectors = np.linalg.eig(A)\n",
    "P = eigenvectors\n",
    "D = np.diag(eigenvalues)\n",
    "\n",
    "P_inv = np.linalg.inv(P)\n",
    "Result = P @ D @ P_inv\n",
    "Result_1 = np.round(P @ P_inv @ D)\n",
    "\n",
    "print(\"A=\\n\",A, end='\\n\\n')\n",
    "print(\"PDP-1=\\n\",Result)\n",
    "print(\"PP-1D=\\n\",Result_1)\n",
    "print()\n",
    "if np.array_equal(Result,Result_1):\n",
    "    print(\"PDP-1 = PP-1D\")\n",
    "else:\n",
    "    print(\"PDP-1 != PP-1D\")\n",
    "    "
   ],
   "outputs": [
    {
     "name": "stdout",
     "output_type": "stream",
     "text": [
      "A=\n",
      " [[5 2]\n",
      " [2 8]]\n",
      "\n",
      "PDP-1=\n",
      " [[5. 2.]\n",
      " [2. 8.]]\n",
      "PP-1D=\n",
      " [[ 4.  0.]\n",
      " [-0.  9.]]\n",
      "\n",
      "PDP-1 != PP-1D\n"
     ]
    }
   ],
   "execution_count": 75
  },
  {
   "cell_type": "markdown",
   "metadata": {
    "id": "9uCyYoHEl9aI"
   },
   "source": [
    "Во кодот што следи е дадена матрица $A$ од случајни вредности од ред $1000 \\times 1000$ која потоа е трансформирана во симетрична матрица (па може да се дијагонализира).\n",
    "\n",
    "а) Да се направи дијагонализација на матрицата.\n",
    "\n",
    "б) Со помош на $P$ и $Q$ матриците да се изрази $A^2$ и $A^3$ на лист хартија. Што забележуваш?\n",
    "\n",
    "в) Напиши две функции кои ќе ја пресметаат вредноста на $A^{100}$.\n",
    "\n",
    "Првата функција ќе прави наивно матрично множење на матрицата 100 пати, т.е. $$result = \\underbrace{A A \\cdots A}_{\\text{100 пати}}.$$\n",
    "\n",
    "Втората функција прво ќе ја дијагонализира матрицата, па користејќи го трикот од б) ќе го пресмета 100-тиот степен на матрицата.\n",
    "\n",
    "Пред извршувањето на секоја од функциите може да го измерите времето потребно за да заврши пресметката на степенот на матрицата. Од модулот `time` користете ја исто-именуваната функција `time` на следниот начин: `start_time = time()`."
   ]
  },
  {
   "cell_type": "code",
   "metadata": {
    "id": "D8v7dMk1l9-M",
    "ExecuteTime": {
     "end_time": "2024-11-28T11:40:18.828496Z",
     "start_time": "2024-11-28T11:40:18.826453Z"
    }
   },
   "source": "",
   "outputs": [],
   "execution_count": null
  },
  {
   "cell_type": "markdown",
   "metadata": {
    "id": "VozwwcEYGdWF"
   },
   "source": [
    "## Практичен дел"
   ]
  },
  {
   "cell_type": "markdown",
   "metadata": {
    "id": "KViaRreYpg83"
   },
   "source": [
    "Следниот тип на анализа се применува за проучување на популацијата на стадо бизони. Популацијата на бизони ќе ја поделиме во три групи: малолетници кои имаат помалку од една година; годишници од една до две години; и возрасни кои се постари од две години.\n",
    "\n",
    "Секоја година  \n",
    "- 80% од малолетниците преживуваат и стануваат годишници;  \n",
    "- 90% до годишниците преживуваат и стануваат возрасни;  \n",
    "- 80% од возрасните преживуваат;\n",
    "- 40% од возрасните раѓаат малолетник.\n",
    "\n",
    "Дефинирај ја матрицата $A$ од веројатности бизон од еден тип да премине во друг тип.\n",
    "\n",
    "а) Нека $x$ е вектор од некоја почетна популација што ќе ја дефинирате вие. Што се случува со популацијата по неколку години?\n",
    "\n",
    "б) Промени ја веројатноста за возрасните да раѓаат малолетници на 30% и 20%. Како се однесуваат овие промени врз развојот на стадото низ времето?"
   ]
  },
  {
   "cell_type": "markdown",
   "metadata": {},
   "source": []
  },
  {
   "cell_type": "code",
   "metadata": {
    "id": "gLeSaNYCSnJT",
    "ExecuteTime": {
     "end_time": "2024-11-28T11:40:19.110600Z",
     "start_time": "2024-11-28T11:40:18.829506Z"
    }
   },
   "source": [
    "P = np.array([\n",
    "    [0.2, 0.8, 0],\n",
    "    [0, 0.1, 0.9],\n",
    "    [0.4, 0, 0.8]\n",
    "])\n",
    "\n",
    "x = np.array([100, 50, 200])\n",
    "\n",
    "years = 5\n",
    "populations = [x]\n",
    "for t in range(years):\n",
    "    vt = P @ populations[-1]\n",
    "    populations.append(vt)\n",
    "\n",
    "# Convert to numpy array for easier slicing\n",
    "populations = np.array(populations)\n",
    "print(populations)  #So vreme se zgolemuva\n",
    "\n"
   ],
   "outputs": [
    {
     "ename": "NameError",
     "evalue": "name 'np' is not defined",
     "output_type": "error",
     "traceback": [
      "\u001B[1;31m---------------------------------------------------------------------------\u001B[0m",
      "\u001B[1;31mNameError\u001B[0m                                 Traceback (most recent call last)",
      "Cell \u001B[1;32mIn[1], line 1\u001B[0m\n\u001B[1;32m----> 1\u001B[0m P \u001B[38;5;241m=\u001B[39m \u001B[43mnp\u001B[49m\u001B[38;5;241m.\u001B[39marray([\n\u001B[0;32m      2\u001B[0m     [\u001B[38;5;241m0.2\u001B[39m, \u001B[38;5;241m0.8\u001B[39m, \u001B[38;5;241m0\u001B[39m],\n\u001B[0;32m      3\u001B[0m     [\u001B[38;5;241m0\u001B[39m, \u001B[38;5;241m0.1\u001B[39m, \u001B[38;5;241m0.9\u001B[39m],\n\u001B[0;32m      4\u001B[0m     [\u001B[38;5;241m0.4\u001B[39m, \u001B[38;5;241m0\u001B[39m, \u001B[38;5;241m0.8\u001B[39m]\n\u001B[0;32m      5\u001B[0m ])\n\u001B[0;32m      7\u001B[0m x \u001B[38;5;241m=\u001B[39m np\u001B[38;5;241m.\u001B[39marray([\u001B[38;5;241m100\u001B[39m, \u001B[38;5;241m50\u001B[39m, \u001B[38;5;241m200\u001B[39m])\n\u001B[0;32m      9\u001B[0m years \u001B[38;5;241m=\u001B[39m \u001B[38;5;241m5\u001B[39m\n",
      "\u001B[1;31mNameError\u001B[0m: name 'np' is not defined"
     ]
    }
   ],
   "execution_count": 1
  },
  {
   "cell_type": "markdown",
   "metadata": {
    "id": "eq5Q0bBophbt"
   },
   "source": [
    "**Principal Component Analysis** (PCA) е техника за редукција на димензионалност кога податочните множества изобилуваат со голем број на атрибути.\n",
    "\n",
    "Дефинирајте податочно множество од 2D точки (барем 4 точки). Секоја редица се однесува на една точка, додека првата колона се х-вредностите на тие точки (аналогно со втората колона за у-вредностите).\n",
    "\n",
    "Пресметај ја коваријансата на матрицата користејќи `np.cov(data, rowvar=False)`.\n",
    "\n",
    "Најди ги потоа сопствените вредности и сопствените вектори за коваријансната матрица.\n",
    "\n",
    "Искористи го најголемиот сопствен вектор (кој се однесува на најголемата сопствена вредност) и направете проекција на точките врз тој вектор.\n",
    "Проекцијата ја правите со матрично множење на точките со сопствениот вектор.\n",
    "\n",
    "Бонус: Направете визуелизација на оригиналните точки, правата на која лежи сопствениот вектор, и точките по трансформација."
   ]
  },
  {
   "cell_type": "code",
   "metadata": {
    "id": "WPUQL8pdph8r",
    "ExecuteTime": {
     "end_time": "2024-11-28T11:40:19.112827Z",
     "start_time": "2024-11-28T11:40:19.112827Z"
    }
   },
   "source": [
    "P = np.array([[0, 1], [2, 3], [4, 5], [0, 6]])\n",
    "cov = np.cov(P, rowvar=False)\n",
    "print(cov, end='\\n\\n')\n",
    "eigenvalues, eigenvectors = np.linalg.eig(cov)\n",
    "\n",
    "print(eigenvalues, end='\\n\\n')\n",
    "print(eigenvectors, end='\\n\\n')\n",
    "\n",
    "max_vector = eigenvectors[:, 1]\n",
    "max_value = np.max(eigenvalues)\n",
    "print(max_value)\n",
    "print(max_vector)\n",
    "\n",
    "proekcija = P @ max_vector\n",
    "print('\\n', proekcija)\n",
    "\n",
    "import matplotlib.pyplot as plt\n",
    "\n",
    "plt.figure(figsize=(8, 8))\n",
    "plt.scatter(P[:, 0], P[:, 1])\n",
    "# plt.plot(P[:,0],P[:,1])\n",
    "origin = np.mean(P, axis=0)  # Центрирање околу средиштето\n",
    "plt.quiver(*origin, *max_vector, color='red', scale=3, label='Главен сопствен вектор')\n",
    "\n",
    "for i, proj in enumerate(proekcija):\n",
    "    proj_point = proj * max_vector + origin\n",
    "    plt.plot([P[i, 0], proj_point[0]], [P[i, 1], proj_point[1]], 'k--')\n",
    "    plt.scatter(*proj_point, color='green')  \n"
   ],
   "outputs": [],
   "execution_count": null
  }
 ],
 "metadata": {
  "colab": {
   "provenance": []
  },
  "kernelspec": {
   "display_name": "Python 3 (ipykernel)",
   "language": "python",
   "name": "python3"
  },
  "language_info": {
   "codemirror_mode": {
    "name": "ipython",
    "version": 3
   },
   "file_extension": ".py",
   "mimetype": "text/x-python",
   "name": "python",
   "nbconvert_exporter": "python",
   "pygments_lexer": "ipython3",
   "version": "3.12.7"
  }
 },
 "nbformat": 4,
 "nbformat_minor": 4
}
